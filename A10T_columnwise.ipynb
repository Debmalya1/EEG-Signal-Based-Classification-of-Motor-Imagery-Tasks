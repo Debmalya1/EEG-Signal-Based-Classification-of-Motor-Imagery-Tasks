{
 "cells": [
  {
   "cell_type": "code",
   "execution_count": 1,
   "id": "410a28c9-eec7-4704-ad62-c726258e548f",
   "metadata": {},
   "outputs": [],
   "source": [
    "#Importing modules\n",
    "import os\n",
    "import mne\n",
    "import numpy as np\n",
    "import pandas as df\n",
    "from scipy.signal import butter, lfilter\n",
    "from scipy.signal import freqz\n",
    "\n"
   ]
  },
  {
   "cell_type": "code",
   "execution_count": 2,
   "id": "76467d92-8c78-4b9a-a108-90f2e83127ef",
   "metadata": {},
   "outputs": [
    {
     "name": "stdout",
     "output_type": "stream",
     "text": [
      "Extracting EDF parameters from C:\\Users\\DEBMALYA\\OneDrive\\Desktop\\Work\\A01T.gdf...\n",
      "GDF file detected\n",
      "Setting channel info structure...\n",
      "Could not determine channel type of the following channels, they will be set as EEG:\n",
      "EEG-Fz, EEG, EEG, EEG, EEG, EEG, EEG, EEG-C3, EEG, EEG-Cz, EEG, EEG-C4, EEG, EEG, EEG, EEG, EEG, EEG, EEG, EEG-Pz, EEG, EEG\n",
      "Creating raw.info structure...\n"
     ]
    },
    {
     "name": "stderr",
     "output_type": "stream",
     "text": [
      "C:\\Users\\DEBMALYA\\anaconda3\\Lib\\contextlib.py:144: RuntimeWarning: Channel names are not unique, found duplicates for: {'EEG'}. Applying running numbers for duplicates.\n",
      "  next(self.gen)\n"
     ]
    },
    {
     "name": "stdout",
     "output_type": "stream",
     "text": [
      "Reading 0 ... 672527  =      0.000 ...  2690.108 secs...\n",
      "Extracting EDF parameters from C:\\Users\\DEBMALYA\\OneDrive\\Desktop\\Work\\A02T.gdf...\n",
      "GDF file detected\n",
      "Setting channel info structure...\n",
      "Could not determine channel type of the following channels, they will be set as EEG:\n",
      "EEG-Fz, EEG, EEG, EEG, EEG, EEG, EEG, EEG-C3, EEG, EEG-Cz, EEG, EEG-C4, EEG, EEG, EEG, EEG, EEG, EEG, EEG, EEG-Pz, EEG, EEG\n",
      "Creating raw.info structure...\n",
      "Reading 0 ... 677168  =      0.000 ...  2708.672 secs...\n"
     ]
    },
    {
     "name": "stderr",
     "output_type": "stream",
     "text": [
      "C:\\Users\\DEBMALYA\\anaconda3\\Lib\\contextlib.py:144: RuntimeWarning: Channel names are not unique, found duplicates for: {'EEG'}. Applying running numbers for duplicates.\n",
      "  next(self.gen)\n"
     ]
    },
    {
     "name": "stdout",
     "output_type": "stream",
     "text": [
      "Extracting EDF parameters from C:\\Users\\DEBMALYA\\OneDrive\\Desktop\\Work\\A03T.gdf...\n",
      "GDF file detected\n",
      "Setting channel info structure...\n",
      "Could not determine channel type of the following channels, they will be set as EEG:\n",
      "EEG-Fz, EEG, EEG, EEG, EEG, EEG, EEG, EEG-C3, EEG, EEG-Cz, EEG, EEG-C4, EEG, EEG, EEG, EEG, EEG, EEG, EEG, EEG-Pz, EEG, EEG\n",
      "Creating raw.info structure...\n",
      "Reading 0 ... 660529  =      0.000 ...  2642.116 secs...\n"
     ]
    },
    {
     "name": "stderr",
     "output_type": "stream",
     "text": [
      "C:\\Users\\DEBMALYA\\anaconda3\\Lib\\contextlib.py:144: RuntimeWarning: Channel names are not unique, found duplicates for: {'EEG'}. Applying running numbers for duplicates.\n",
      "  next(self.gen)\n"
     ]
    },
    {
     "name": "stdout",
     "output_type": "stream",
     "text": [
      "Extracting EDF parameters from C:\\Users\\DEBMALYA\\OneDrive\\Desktop\\Work\\A05T.gdf...\n",
      "GDF file detected\n",
      "Setting channel info structure...\n",
      "Could not determine channel type of the following channels, they will be set as EEG:\n",
      "EEG-Fz, EEG, EEG, EEG, EEG, EEG, EEG, EEG-C3, EEG, EEG-Cz, EEG, EEG-C4, EEG, EEG, EEG, EEG, EEG, EEG, EEG, EEG-Pz, EEG, EEG\n",
      "Creating raw.info structure...\n",
      "Reading 0 ... 686119  =      0.000 ...  2744.476 secs...\n"
     ]
    },
    {
     "name": "stderr",
     "output_type": "stream",
     "text": [
      "C:\\Users\\DEBMALYA\\anaconda3\\Lib\\contextlib.py:144: RuntimeWarning: Channel names are not unique, found duplicates for: {'EEG'}. Applying running numbers for duplicates.\n",
      "  next(self.gen)\n"
     ]
    },
    {
     "name": "stdout",
     "output_type": "stream",
     "text": [
      "Extracting EDF parameters from C:\\Users\\DEBMALYA\\OneDrive\\Desktop\\Work\\A06T.gdf...\n",
      "GDF file detected\n",
      "Setting channel info structure...\n",
      "Could not determine channel type of the following channels, they will be set as EEG:\n",
      "EEG-Fz, EEG, EEG, EEG, EEG, EEG, EEG, EEG-C3, EEG, EEG-Cz, EEG, EEG-C4, EEG, EEG, EEG, EEG, EEG, EEG, EEG, EEG-Pz, EEG, EEG\n",
      "Creating raw.info structure...\n",
      "Reading 0 ... 678979  =      0.000 ...  2715.916 secs...\n"
     ]
    },
    {
     "name": "stderr",
     "output_type": "stream",
     "text": [
      "C:\\Users\\DEBMALYA\\anaconda3\\Lib\\contextlib.py:144: RuntimeWarning: Channel names are not unique, found duplicates for: {'EEG'}. Applying running numbers for duplicates.\n",
      "  next(self.gen)\n"
     ]
    },
    {
     "name": "stdout",
     "output_type": "stream",
     "text": [
      "Extracting EDF parameters from C:\\Users\\DEBMALYA\\OneDrive\\Desktop\\Work\\A07T.gdf...\n",
      "GDF file detected\n",
      "Setting channel info structure...\n",
      "Could not determine channel type of the following channels, they will be set as EEG:\n",
      "EEG-Fz, EEG, EEG, EEG, EEG, EEG, EEG, EEG-C3, EEG, EEG-Cz, EEG, EEG-C4, EEG, EEG, EEG, EEG, EEG, EEG, EEG, EEG-Pz, EEG, EEG\n",
      "Creating raw.info structure...\n",
      "Reading 0 ... 681070  =      0.000 ...  2724.280 secs...\n"
     ]
    },
    {
     "name": "stderr",
     "output_type": "stream",
     "text": [
      "C:\\Users\\DEBMALYA\\anaconda3\\Lib\\contextlib.py:144: RuntimeWarning: Channel names are not unique, found duplicates for: {'EEG'}. Applying running numbers for duplicates.\n",
      "  next(self.gen)\n"
     ]
    },
    {
     "name": "stdout",
     "output_type": "stream",
     "text": [
      "Extracting EDF parameters from C:\\Users\\DEBMALYA\\OneDrive\\Desktop\\Work\\A08T.gdf...\n",
      "GDF file detected\n",
      "Setting channel info structure...\n",
      "Could not determine channel type of the following channels, they will be set as EEG:\n",
      "EEG-Fz, EEG, EEG, EEG, EEG, EEG, EEG, EEG-C3, EEG, EEG-Cz, EEG, EEG-C4, EEG, EEG, EEG, EEG, EEG, EEG, EEG, EEG-Pz, EEG, EEG\n",
      "Creating raw.info structure...\n",
      "Reading 0 ... 675269  =      0.000 ...  2701.076 secs...\n"
     ]
    },
    {
     "name": "stderr",
     "output_type": "stream",
     "text": [
      "C:\\Users\\DEBMALYA\\anaconda3\\Lib\\contextlib.py:144: RuntimeWarning: Channel names are not unique, found duplicates for: {'EEG'}. Applying running numbers for duplicates.\n",
      "  next(self.gen)\n"
     ]
    },
    {
     "name": "stdout",
     "output_type": "stream",
     "text": [
      "Extracting EDF parameters from C:\\Users\\DEBMALYA\\OneDrive\\Desktop\\Work\\A09T.gdf...\n",
      "GDF file detected\n",
      "Setting channel info structure...\n",
      "Could not determine channel type of the following channels, they will be set as EEG:\n",
      "EEG-Fz, EEG, EEG, EEG, EEG, EEG, EEG, EEG-C3, EEG, EEG-Cz, EEG, EEG-C4, EEG, EEG, EEG, EEG, EEG, EEG, EEG, EEG-Pz, EEG, EEG\n",
      "Creating raw.info structure...\n",
      "Reading 0 ... 673327  =      0.000 ...  2693.308 secs...\n"
     ]
    },
    {
     "name": "stderr",
     "output_type": "stream",
     "text": [
      "C:\\Users\\DEBMALYA\\anaconda3\\Lib\\contextlib.py:144: RuntimeWarning: Channel names are not unique, found duplicates for: {'EEG'}. Applying running numbers for duplicates.\n",
      "  next(self.gen)\n"
     ]
    }
   ],
   "source": [
    "#dropping the eog channels as we will be working only on 22 eeg channels\n",
    "file_paths_1 = [\n",
    "    'A01T.gdf',\n",
    "    'A02T.gdf',\n",
    "    'A03T.gdf',\n",
    "    'A05T.gdf',\n",
    "    'A06T.gdf',\n",
    "    'A07T.gdf',\n",
    "    'A08T.gdf',\n",
    "    'A09T.gdf'\n",
    "]\n",
    "raw = []\n",
    "\n",
    "for file_path in file_paths_1:\n",
    "    raw_data = mne.io.read_raw_gdf(file_path,preload=True, eog=['EOG-left', 'EOG-central', 'EOG-right'])\n",
    "    \n",
    "    p=raw_data.drop_channels(['EOG-left', 'EOG-central', 'EOG-right'])\n",
    "    #eeg_data = p.get_data()  # Get the EEG data as a numpy array\n",
    "    #eeg_data_list.append(eeg_data)\n",
    "    raw.append(p)\n",
    "\n",
    "\n",
    "#datax=mne.io.read_raw_gdf('A09T.gdf',preload=True, eog=['EOG-left', 'EOG-central', 'EOG-right'])\n",
    "#p=datax.drop_channels(['EOG-left', 'EOG-central', 'EOG-right'])"
   ]
  },
  {
   "cell_type": "code",
   "execution_count": 3,
   "id": "a6b3f1db-2e0a-4a93-9da1-57783b69765c",
   "metadata": {},
   "outputs": [
    {
     "data": {
      "text/plain": [
       "mne.io.edf.edf.RawGDF"
      ]
     },
     "execution_count": 3,
     "metadata": {},
     "output_type": "execute_result"
    }
   ],
   "source": [
    "#len(raw[7][0])\n",
    "#eeg_array = np.stack(raw, axis=0)\n",
    "#for i in range(0,7):\n",
    "#arr=np.array(raw)\n",
    "type(raw[0])\n",
    "\n",
    "#arr.shape\n",
    "#type(raw[0])\n",
    "#raw[0].shape\n",
    "#import array\n",
    "#my_array=array.array('i',raw)\n",
    "#printing the file details\n",
    "#print(raw[7])\n",
    "#printing the file info details\n",
    "#print(raw.info)"
   ]
  },
  {
   "cell_type": "code",
   "execution_count": 4,
   "id": "0b37b113-1d8f-4087-b9b1-90736c2835a8",
   "metadata": {},
   "outputs": [
    {
     "name": "stdout",
     "output_type": "stream",
     "text": [
      "Used Annotations descriptions: ['1023', '1072', '276', '277', '32766', '768', '769', '770', '771', '772']\n",
      "Used Annotations descriptions: ['1023', '1072', '276', '277', '32766', '768', '769', '770', '771', '772']\n",
      "Used Annotations descriptions: ['1023', '1072', '276', '277', '32766', '768', '769', '770', '771', '772']\n",
      "Used Annotations descriptions: ['1023', '1072', '276', '277', '32766', '768', '769', '770', '771', '772']\n",
      "Used Annotations descriptions: ['1023', '1072', '276', '277', '32766', '768', '769', '770', '771', '772']\n",
      "Used Annotations descriptions: ['1023', '1072', '276', '277', '32766', '768', '769', '770', '771', '772']\n",
      "Used Annotations descriptions: ['1023', '1072', '276', '277', '32766', '768', '769', '770', '771', '772']\n",
      "Used Annotations descriptions: ['1023', '1072', '276', '277', '32766', '768', '769', '770', '771', '772']\n"
     ]
    }
   ],
   "source": [
    "#Annotation object for annotating segments of raw data.\n",
    "for i in range(0,8):\n",
    "    raw[i].annotations\n",
    "    events=mne.events_from_annotations(raw[i])\n",
    "    #printing the 1st index of the events which contains the overall details of the file\n",
    "    events[1]\n",
    "    "
   ]
  },
  {
   "cell_type": "code",
   "execution_count": 5,
   "id": "9de6f751-0145-486d-b9b9-a50ceca72b9e",
   "metadata": {},
   "outputs": [
    {
     "data": {
      "text/plain": [
       "array([[     0,      0,      5],\n",
       "       [     0,      0,      3],\n",
       "       [ 30878,      0,      5],\n",
       "       [ 30878,      0,      4],\n",
       "       [ 54282,      0,      5],\n",
       "       [ 54282,      0,      2],\n",
       "       [ 92318,      0,      5],\n",
       "       [ 92668,      0,      6],\n",
       "       [ 92668,      0,      1],\n",
       "       [ 93168,      0,     10],\n",
       "       [ 94671,      0,      6],\n",
       "       [ 95171,      0,      8],\n",
       "       [ 96589,      0,      6],\n",
       "       [ 97089,      0,      8],\n",
       "       [ 98541,      0,      6],\n",
       "       [ 98541,      0,      1],\n",
       "       [ 99041,      0,      7],\n",
       "       [100549,      0,      6],\n",
       "       [100549,      0,      1],\n",
       "       [101049,      0,     10]])"
      ]
     },
     "execution_count": 5,
     "metadata": {},
     "output_type": "execute_result"
    }
   ],
   "source": [
    "#events[0] contains the main data in which we should work on \n",
    "events[0][0:20]"
   ]
  },
  {
   "cell_type": "code",
   "execution_count": 6,
   "id": "c664c320-158c-413d-a588-185feb9a81a3",
   "metadata": {},
   "outputs": [],
   "source": [
    "#creating a event dictionary\n",
    "event_dict={\n",
    " 'reject':1,\n",
    " 'eye move':2,\n",
    " 'eye open':3,\n",
    " 'eye close':4,\n",
    " 'new run':5,\n",
    " 'new trial':6,\n",
    " 'class 1':7,\n",
    " 'class 2':8,\n",
    " 'class 3':9,\n",
    " 'class 4':10,\n",
    "}"
   ]
  },
  {
   "cell_type": "code",
   "execution_count": 7,
   "id": "0295b776-a1d3-4df8-88b5-7ef81df6cd91",
   "metadata": {},
   "outputs": [],
   "source": [
    "for i in range(0,8):\n",
    "    rawinfo=raw[i].info"
   ]
  },
  {
   "cell_type": "code",
   "execution_count": 8,
   "id": "b44cc71b-6643-45c5-bae3-f91a3d760ee2",
   "metadata": {},
   "outputs": [
    {
     "data": {
      "text/html": [
       "<table class=\"table table-hover table-striped table-sm table-responsive small\">\n",
       "    <tr>\n",
       "        <th>Measurement date</th>\n",
       "        \n",
       "        <td>November 16, 2004  12:00:00 GMT</td>\n",
       "        \n",
       "    </tr>\n",
       "    <tr>\n",
       "        <th>Experimenter</th>\n",
       "        \n",
       "        <td>Unknown</td>\n",
       "        \n",
       "    </tr>\n",
       "        <th>Participant</th>\n",
       "        \n",
       "        <td>Unknown</td>\n",
       "        \n",
       "    </tr>\n",
       "    <tr>\n",
       "        <th>Digitized points</th>\n",
       "        \n",
       "        <td>Not available</td>\n",
       "        \n",
       "    </tr>\n",
       "    <tr>\n",
       "        <th>Good channels</th>\n",
       "        <td>22 EEG</td>\n",
       "    </tr>\n",
       "    <tr>\n",
       "        <th>Bad channels</th>\n",
       "        <td>None</td>\n",
       "    </tr>\n",
       "    <tr>\n",
       "        <th>EOG channels</th>\n",
       "        <td>Not available</td>\n",
       "    </tr>\n",
       "    <tr>\n",
       "        <th>ECG channels</th>\n",
       "        <td>Not available</td>\n",
       "    \n",
       "    <tr>\n",
       "        <th>Sampling frequency</th>\n",
       "        <td>250.00 Hz</td>\n",
       "    </tr>\n",
       "    \n",
       "    \n",
       "    <tr>\n",
       "        <th>Highpass</th>\n",
       "        <td>0.50 Hz</td>\n",
       "    </tr>\n",
       "    \n",
       "    \n",
       "    <tr>\n",
       "        <th>Lowpass</th>\n",
       "        <td>100.00 Hz</td>\n",
       "    </tr>\n",
       "    \n",
       "    \n",
       "</table>"
      ],
      "text/plain": [
       "<Info | 7 non-empty values\n",
       " bads: []\n",
       " ch_names: EEG-Fz, EEG-0, EEG-1, EEG-2, EEG-3, EEG-4, EEG-5, EEG-C3, EEG-6, ...\n",
       " chs: 22 EEG\n",
       " custom_ref_applied: False\n",
       " highpass: 0.5 Hz\n",
       " lowpass: 100.0 Hz\n",
       " meas_date: 2004-11-16 12:00:00 UTC\n",
       " nchan: 22\n",
       " projs: []\n",
       " sfreq: 250.0 Hz\n",
       ">"
      ]
     },
     "execution_count": 8,
     "metadata": {},
     "output_type": "execute_result"
    }
   ],
   "source": [
    "rawinfo"
   ]
  },
  {
   "cell_type": "code",
   "execution_count": 9,
   "id": "e8686977-b954-4c91-986a-6a16d63b61ce",
   "metadata": {},
   "outputs": [],
   "source": [
    "chs = ['EEG-Fz', 'EEG-0', 'EEG-1', 'EEG-2', 'EEG-3', 'EEG-4', 'EEG-5','EEG-C3','EEG-6','EEG-Cz','EEG-7','EEG-C4','EEG-8','EEG-9','EEG-10','EEG-11','EEG-12','EEG-13','EEG-14','EEG-Pz','EEG-15','EEG-16','EOG-left','EOG-central','EOG-right']"
   ]
  },
  {
   "cell_type": "code",
   "execution_count": 10,
   "id": "24c2f168-ef77-4e3f-8fe0-a815a468a5cd",
   "metadata": {},
   "outputs": [
    {
     "name": "stdout",
     "output_type": "stream",
     "text": [
      "Not setting metadata\n",
      "72 matching events found\n",
      "Setting baseline interval to [-0.1, 0.0] s\n",
      "Applying baseline correction (mode: mean)\n",
      "0 projection items activated\n",
      "Using data from preloaded Raw for 72 events and 1501 original time points ...\n",
      "0 bad epochs dropped\n",
      "Not setting metadata\n",
      "72 matching events found\n",
      "Setting baseline interval to [-0.1, 0.0] s\n",
      "Applying baseline correction (mode: mean)\n",
      "0 projection items activated\n",
      "Using data from preloaded Raw for 72 events and 1501 original time points ...\n",
      "0 bad epochs dropped\n",
      "Not setting metadata\n",
      "72 matching events found\n",
      "Setting baseline interval to [-0.1, 0.0] s\n",
      "Applying baseline correction (mode: mean)\n",
      "0 projection items activated\n",
      "Using data from preloaded Raw for 72 events and 1501 original time points ...\n",
      "1 bad epochs dropped\n",
      "Not setting metadata\n",
      "72 matching events found\n",
      "Setting baseline interval to [-0.1, 0.0] s\n",
      "Applying baseline correction (mode: mean)\n",
      "0 projection items activated\n",
      "Using data from preloaded Raw for 72 events and 1501 original time points ...\n",
      "0 bad epochs dropped\n",
      "Not setting metadata\n",
      "72 matching events found\n",
      "Setting baseline interval to [-0.1, 0.0] s\n",
      "Applying baseline correction (mode: mean)\n",
      "0 projection items activated\n",
      "Using data from preloaded Raw for 72 events and 1501 original time points ...\n",
      "0 bad epochs dropped\n",
      "Not setting metadata\n",
      "72 matching events found\n",
      "Setting baseline interval to [-0.1, 0.0] s\n",
      "Applying baseline correction (mode: mean)\n",
      "0 projection items activated\n",
      "Using data from preloaded Raw for 72 events and 1501 original time points ...\n",
      "0 bad epochs dropped\n",
      "Not setting metadata\n",
      "72 matching events found\n",
      "Setting baseline interval to [-0.1, 0.0] s\n",
      "Applying baseline correction (mode: mean)\n",
      "0 projection items activated\n",
      "Using data from preloaded Raw for 72 events and 1501 original time points ...\n",
      "0 bad epochs dropped\n",
      "Not setting metadata\n",
      "72 matching events found\n",
      "Setting baseline interval to [-0.1, 0.0] s\n",
      "Applying baseline correction (mode: mean)\n",
      "0 projection items activated\n",
      "Using data from preloaded Raw for 72 events and 1501 original time points ...\n",
      "0 bad epochs dropped\n"
     ]
    }
   ],
   "source": [
    "#we reject 3rd file due to bad epochs\n",
    "classA = mne.Epochs(raw[0], events[0], event_id=[7],tmin=-0.1, tmax=5.9, preload=True)\n",
    "classA1 = mne.Epochs(raw[1], events[0], event_id=[7],tmin=-0.1, tmax=5.9, preload=True)\n",
    "classA= np.append(classA,classA1)\n",
    "classA2 = mne.Epochs(raw[2], events[0], event_id=[7],tmin=-0.1, tmax=5.9, preload=True)\n",
    "classA= np.append(classA,classA2)\n",
    "classA3 = mne.Epochs(raw[3], events[0], event_id=[7],tmin=-0.1, tmax=5.9, preload=True)\n",
    "classA= np.append(classA,classA3)\n",
    "classA4 = mne.Epochs(raw[4], events[0], event_id=[7],tmin=-0.1, tmax=5.9, preload=True)\n",
    "classA= np.append(classA,classA4)\n",
    "classA5 = mne.Epochs(raw[5], events[0], event_id=[7],tmin=-0.1, tmax=5.9, preload=True)\n",
    "classA= np.append(classA,classA5)\n",
    "classA6 = mne.Epochs(raw[6], events[0], event_id=[7],tmin=-0.1, tmax=5.9, preload=True)\n",
    "classA= np.append(classA,classA6)\n",
    "classA7 = mne.Epochs(raw[7], events[0], event_id=[7],tmin=-0.1, tmax=5.9, preload=True)\n",
    "classA= np.append(classA,classA7)\n",
    "\n"
   ]
  },
  {
   "cell_type": "code",
   "execution_count": 11,
   "id": "842cd892-f45e-4223-9b43-eceaf7062dfc",
   "metadata": {},
   "outputs": [
    {
     "name": "stdout",
     "output_type": "stream",
     "text": [
      "Not setting metadata\n",
      "72 matching events found\n",
      "Setting baseline interval to [-0.1, 0.0] s\n",
      "Applying baseline correction (mode: mean)\n",
      "0 projection items activated\n",
      "Using data from preloaded Raw for 72 events and 1501 original time points ...\n",
      "0 bad epochs dropped\n",
      "Not setting metadata\n",
      "72 matching events found\n",
      "Setting baseline interval to [-0.1, 0.0] s\n",
      "Applying baseline correction (mode: mean)\n",
      "0 projection items activated\n",
      "Using data from preloaded Raw for 72 events and 1501 original time points ...\n",
      "0 bad epochs dropped\n",
      "Not setting metadata\n",
      "72 matching events found\n",
      "Setting baseline interval to [-0.1, 0.0] s\n",
      "Applying baseline correction (mode: mean)\n",
      "0 projection items activated\n",
      "Using data from preloaded Raw for 72 events and 1501 original time points ...\n",
      "2 bad epochs dropped\n",
      "Not setting metadata\n",
      "72 matching events found\n",
      "Setting baseline interval to [-0.1, 0.0] s\n",
      "Applying baseline correction (mode: mean)\n",
      "0 projection items activated\n",
      "Using data from preloaded Raw for 72 events and 1501 original time points ...\n",
      "0 bad epochs dropped\n",
      "Not setting metadata\n",
      "72 matching events found\n",
      "Setting baseline interval to [-0.1, 0.0] s\n",
      "Applying baseline correction (mode: mean)\n",
      "0 projection items activated\n",
      "Using data from preloaded Raw for 72 events and 1501 original time points ...\n",
      "0 bad epochs dropped\n",
      "Not setting metadata\n",
      "72 matching events found\n",
      "Setting baseline interval to [-0.1, 0.0] s\n",
      "Applying baseline correction (mode: mean)\n",
      "0 projection items activated\n",
      "Using data from preloaded Raw for 72 events and 1501 original time points ...\n",
      "0 bad epochs dropped\n",
      "Not setting metadata\n",
      "72 matching events found\n",
      "Setting baseline interval to [-0.1, 0.0] s\n",
      "Applying baseline correction (mode: mean)\n",
      "0 projection items activated\n",
      "Using data from preloaded Raw for 72 events and 1501 original time points ...\n",
      "0 bad epochs dropped\n",
      "Not setting metadata\n",
      "72 matching events found\n",
      "Setting baseline interval to [-0.1, 0.0] s\n",
      "Applying baseline correction (mode: mean)\n",
      "0 projection items activated\n",
      "Using data from preloaded Raw for 72 events and 1501 original time points ...\n",
      "0 bad epochs dropped\n"
     ]
    }
   ],
   "source": [
    "classB= mne.Epochs(raw[0], events[0], event_id=[8],tmin=-0.1, tmax=5.9, preload=True)\n",
    "classB1 = mne.Epochs(raw[1], events[0], event_id=[8],tmin=-0.1, tmax=5.9, preload=True)\n",
    "classB= np.append(classB,classB1)\n",
    "classB2 = mne.Epochs(raw[2], events[0], event_id=[8],tmin=-0.1, tmax=5.9, preload=True)\n",
    "classB= np.append(classB,classB2)\n",
    "classB3 = mne.Epochs(raw[3], events[0], event_id=[8],tmin=-0.1, tmax=5.9, preload=True)\n",
    "classB= np.append(classB,classB3)\n",
    "classB4 = mne.Epochs(raw[4], events[0], event_id=[8],tmin=-0.1, tmax=5.9, preload=True)\n",
    "classB= np.append(classB,classB4)\n",
    "classB5 = mne.Epochs(raw[5], events[0], event_id=[8],tmin=-0.1, tmax=5.9, preload=True)\n",
    "classB= np.append(classB,classB5)\n",
    "classB6 = mne.Epochs(raw[6], events[0], event_id=[8],tmin=-0.1, tmax=5.9, preload=True)\n",
    "classB= np.append(classB,classB6)\n",
    "classB7 = mne.Epochs(raw[7], events[0], event_id=[8],tmin=-0.1, tmax=5.9, preload=True)\n",
    "classB= np.append(classB,classB7)\n"
   ]
  },
  {
   "cell_type": "code",
   "execution_count": 12,
   "id": "e6638ca6-1cd9-4394-aaa3-165708d95446",
   "metadata": {},
   "outputs": [
    {
     "data": {
      "text/plain": [
       "'classC = mne.Epochs(raw[0], events[0], event_id=[9],tmin=-0.1, tmax=5.9, preload=True)\\nclassC1 = mne.Epochs(raw[1], events[0], event_id=[9],tmin=-0.1, tmax=5.9, preload=True)\\nclassC= np.append(classC,classC1)\\nclassC2 = mne.Epochs(raw[2], events[0], event_id=[9],tmin=-0.1, tmax=5.9, preload=True)\\nclassC= np.append(classC,classC2)\\nclassC3 = mne.Epochs(raw[3], events[0], event_id=[9],tmin=-0.1, tmax=5.9, preload=True)\\nclassC= np.append(classC,classC3)\\nclassC4 = mne.Epochs(raw[4], events[0], event_id=[9],tmin=-0.1, tmax=5.9, preload=True)\\nclassC= np.append(classC,classC4)\\nclassC5 = mne.Epochs(raw[5], events[0], event_id=[9],tmin=-0.1, tmax=5.9, preload=True)\\nclassC= np.append(classC,classC5)\\nclassC6 = mne.Epochs(raw[6], events[0], event_id=[9],tmin=-0.1, tmax=5.9, preload=True)\\nclassC= np.append(classC,classC6)\\nclassC7 = mne.Epochs(raw[7], events[0], event_id=[9],tmin=-0.1, tmax=5.9, preload=True)\\nclassC= np.append(classC,classC7)'"
      ]
     },
     "execution_count": 12,
     "metadata": {},
     "output_type": "execute_result"
    }
   ],
   "source": [
    "'''classC = mne.Epochs(raw[0], events[0], event_id=[9],tmin=-0.1, tmax=5.9, preload=True)\n",
    "classC1 = mne.Epochs(raw[1], events[0], event_id=[9],tmin=-0.1, tmax=5.9, preload=True)\n",
    "classC= np.append(classC,classC1)\n",
    "classC2 = mne.Epochs(raw[2], events[0], event_id=[9],tmin=-0.1, tmax=5.9, preload=True)\n",
    "classC= np.append(classC,classC2)\n",
    "classC3 = mne.Epochs(raw[3], events[0], event_id=[9],tmin=-0.1, tmax=5.9, preload=True)\n",
    "classC= np.append(classC,classC3)\n",
    "classC4 = mne.Epochs(raw[4], events[0], event_id=[9],tmin=-0.1, tmax=5.9, preload=True)\n",
    "classC= np.append(classC,classC4)\n",
    "classC5 = mne.Epochs(raw[5], events[0], event_id=[9],tmin=-0.1, tmax=5.9, preload=True)\n",
    "classC= np.append(classC,classC5)\n",
    "classC6 = mne.Epochs(raw[6], events[0], event_id=[9],tmin=-0.1, tmax=5.9, preload=True)\n",
    "classC= np.append(classC,classC6)\n",
    "classC7 = mne.Epochs(raw[7], events[0], event_id=[9],tmin=-0.1, tmax=5.9, preload=True)\n",
    "classC= np.append(classC,classC7)'''"
   ]
  },
  {
   "cell_type": "code",
   "execution_count": 13,
   "id": "ecd46cb3-95e6-4e47-9e8f-bd21fd8a5aa0",
   "metadata": {},
   "outputs": [],
   "source": [
    "#classC.shape"
   ]
  },
  {
   "cell_type": "code",
   "execution_count": 14,
   "id": "2f70c1fc-879c-4660-96fc-91654e399040",
   "metadata": {},
   "outputs": [
    {
     "data": {
      "text/plain": [
       "'classD = mne.Epochs(raw[0], events[0], event_id=[10],tmin=-0.1, tmax=5.9, preload=True)\\nclassD1 = mne.Epochs(raw[1], events[0], event_id=[10],tmin=-0.1, tmax=5.9, preload=True)\\nclassD= np.append(classD,classD1)\\nclassD2 = mne.Epochs(raw[2], events[0], event_id=[10],tmin=-0.1, tmax=5.9, preload=True)\\nclassD= np.append(classD,classD2)\\nclassD3 = mne.Epochs(raw[3], events[0], event_id=[10],tmin=-0.1, tmax=5.9, preload=True)\\nclassD= np.append(classD,classD3)\\nclassD4 = mne.Epochs(raw[4], events[0], event_id=[10],tmin=-0.1, tmax=5.9, preload=True)\\nclassD= np.append(classD,classD4)\\nclassD5 = mne.Epochs(raw[5], events[0], event_id=[10],tmin=-0.1, tmax=5.9, preload=True)\\nclassD= np.append(classD,classD5)\\nclassD6 = mne.Epochs(raw[6], events[0], event_id=[10],tmin=-0.1, tmax=5.9, preload=True)\\nclassD= np.append(classD,classD6)\\nclassD7 = mne.Epochs(raw[7], events[0], event_id=[10],tmin=-0.1, tmax=5.9, preload=True)\\nclassD= np.append(classD,classD7)'"
      ]
     },
     "execution_count": 14,
     "metadata": {},
     "output_type": "execute_result"
    }
   ],
   "source": [
    "'''classD = mne.Epochs(raw[0], events[0], event_id=[10],tmin=-0.1, tmax=5.9, preload=True)\n",
    "classD1 = mne.Epochs(raw[1], events[0], event_id=[10],tmin=-0.1, tmax=5.9, preload=True)\n",
    "classD= np.append(classD,classD1)\n",
    "classD2 = mne.Epochs(raw[2], events[0], event_id=[10],tmin=-0.1, tmax=5.9, preload=True)\n",
    "classD= np.append(classD,classD2)\n",
    "classD3 = mne.Epochs(raw[3], events[0], event_id=[10],tmin=-0.1, tmax=5.9, preload=True)\n",
    "classD= np.append(classD,classD3)\n",
    "classD4 = mne.Epochs(raw[4], events[0], event_id=[10],tmin=-0.1, tmax=5.9, preload=True)\n",
    "classD= np.append(classD,classD4)\n",
    "classD5 = mne.Epochs(raw[5], events[0], event_id=[10],tmin=-0.1, tmax=5.9, preload=True)\n",
    "classD= np.append(classD,classD5)\n",
    "classD6 = mne.Epochs(raw[6], events[0], event_id=[10],tmin=-0.1, tmax=5.9, preload=True)\n",
    "classD= np.append(classD,classD6)\n",
    "classD7 = mne.Epochs(raw[7], events[0], event_id=[10],tmin=-0.1, tmax=5.9, preload=True)\n",
    "classD= np.append(classD,classD7)'''"
   ]
  },
  {
   "cell_type": "code",
   "execution_count": 15,
   "id": "7807d58c-6797-4f68-8026-ef2a778e9c74",
   "metadata": {},
   "outputs": [
    {
     "data": {
      "text/plain": [
       "numpy.ndarray"
      ]
     },
     "execution_count": 15,
     "metadata": {},
     "output_type": "execute_result"
    }
   ],
   "source": [
    "#printing the shape of the first class(left hand)\n",
    "classA.shape\n",
    "newA=classA.reshape(575,22,1501)\n",
    "#newA.shape\n",
    "type(newA)"
   ]
  },
  {
   "cell_type": "code",
   "execution_count": 16,
   "id": "27f864e6-6a5e-4879-9794-1155625a4483",
   "metadata": {},
   "outputs": [
    {
     "name": "stdout",
     "output_type": "stream",
     "text": [
      "Not setting metadata\n",
      "575 matching events found\n",
      "No baseline correction applied\n",
      "0 projection items activated\n"
     ]
    },
    {
     "data": {
      "text/plain": [
       "(575, 22, 1501)"
      ]
     },
     "execution_count": 16,
     "metadata": {},
     "output_type": "execute_result"
    }
   ],
   "source": [
    "#printing the classA (first class details)\n",
    "A=[0]\n",
    "A=mne.EpochsArray(newA,rawinfo)\n",
    "A.get_data().shape"
   ]
  },
  {
   "cell_type": "code",
   "execution_count": 17,
   "id": "db60a74f-4d28-4c01-be00-023b654da29e",
   "metadata": {},
   "outputs": [
    {
     "data": {
      "text/plain": [
       "numpy.ndarray"
      ]
     },
     "execution_count": 17,
     "metadata": {},
     "output_type": "execute_result"
    }
   ],
   "source": [
    "classB.shape\n",
    "newB=classB.reshape(574,22,1501)\n",
    "#newA.shape\n",
    "type(newB)"
   ]
  },
  {
   "cell_type": "code",
   "execution_count": 18,
   "id": "53547872-d400-4db8-aa40-721c1dd6bdae",
   "metadata": {},
   "outputs": [
    {
     "name": "stdout",
     "output_type": "stream",
     "text": [
      "Not setting metadata\n",
      "574 matching events found\n",
      "No baseline correction applied\n",
      "0 projection items activated\n"
     ]
    },
    {
     "data": {
      "text/html": [
       "<table class=\"table table-hover table-striped table-sm table-responsive small\">\n",
       "    <tr>\n",
       "        <th>Number of events</th>\n",
       "        <td>574</td>\n",
       "    </tr>\n",
       "    <tr>\n",
       "        <th>Events</th>\n",
       "        \n",
       "        <td>1: 574</td>\n",
       "        \n",
       "    </tr>\n",
       "    <tr>\n",
       "        <th>Time range</th>\n",
       "        <td>0.000 – 6.000 s</td>\n",
       "    </tr>\n",
       "    <tr>\n",
       "        <th>Baseline</th>\n",
       "        <td>off</td>\n",
       "    </tr>\n",
       "</table>"
      ],
      "text/plain": [
       "<EpochsArray |  574 events (all good), 0 – 6 s, baseline off, ~144.6 MB, data loaded,\n",
       " '1': 574>"
      ]
     },
     "execution_count": 18,
     "metadata": {},
     "output_type": "execute_result"
    }
   ],
   "source": [
    "B=[0]\n",
    "B=mne.EpochsArray(newB,rawinfo)\n",
    "B"
   ]
  },
  {
   "cell_type": "code",
   "execution_count": 19,
   "id": "ac39ef34-7e20-4b77-b690-4079704c9e90",
   "metadata": {},
   "outputs": [
    {
     "data": {
      "text/plain": [
       "'classC.shape\\nnewC=classC.reshape(574,22,1501)\\n#newA.shape\\ntype(newC)'"
      ]
     },
     "execution_count": 19,
     "metadata": {},
     "output_type": "execute_result"
    }
   ],
   "source": [
    "'''classC.shape\n",
    "newC=classC.reshape(574,22,1501)\n",
    "#newA.shape\n",
    "type(newC)'''"
   ]
  },
  {
   "cell_type": "code",
   "execution_count": 20,
   "id": "263072b4-8e00-4492-8242-a8e7845ecb9d",
   "metadata": {},
   "outputs": [
    {
     "data": {
      "text/plain": [
       "'C=[0]\\nC=mne.EpochsArray(newC,rawinfo)\\nC'"
      ]
     },
     "execution_count": 20,
     "metadata": {},
     "output_type": "execute_result"
    }
   ],
   "source": [
    "'''C=[0]\n",
    "C=mne.EpochsArray(newC,rawinfo)\n",
    "C'''"
   ]
  },
  {
   "cell_type": "code",
   "execution_count": 21,
   "id": "ba5737bf-80bf-4077-9b22-234a30b33645",
   "metadata": {},
   "outputs": [
    {
     "data": {
      "text/plain": [
       "'classD.shape\\nnewD=classD.reshape(573,22,1501)\\n#newA.shape\\ntype(newD)'"
      ]
     },
     "execution_count": 21,
     "metadata": {},
     "output_type": "execute_result"
    }
   ],
   "source": [
    "'''classD.shape\n",
    "newD=classD.reshape(573,22,1501)\n",
    "#newA.shape\n",
    "type(newD)'''"
   ]
  },
  {
   "cell_type": "code",
   "execution_count": 22,
   "id": "55b49f4a-8c62-4b84-80a9-56d6c7ecea49",
   "metadata": {},
   "outputs": [
    {
     "data": {
      "text/plain": [
       "'D=[0]\\nD=mne.EpochsArray(newD,rawinfo)\\nD'"
      ]
     },
     "execution_count": 22,
     "metadata": {},
     "output_type": "execute_result"
    }
   ],
   "source": [
    "'''D=[0]\n",
    "D=mne.EpochsArray(newD,rawinfo)\n",
    "D'''"
   ]
  },
  {
   "cell_type": "code",
   "execution_count": 23,
   "id": "b17910d6-e58d-4c6b-9360-935f0fa073ac",
   "metadata": {},
   "outputs": [
    {
     "data": {
      "text/html": [
       "<table class=\"table table-hover table-striped table-sm table-responsive small\">\n",
       "    <tr>\n",
       "        <th>Number of events</th>\n",
       "        <td>575</td>\n",
       "    </tr>\n",
       "    <tr>\n",
       "        <th>Events</th>\n",
       "        \n",
       "        <td>1: 575</td>\n",
       "        \n",
       "    </tr>\n",
       "    <tr>\n",
       "        <th>Time range</th>\n",
       "        <td>0.000 – 6.000 s</td>\n",
       "    </tr>\n",
       "    <tr>\n",
       "        <th>Baseline</th>\n",
       "        <td>off</td>\n",
       "    </tr>\n",
       "</table>"
      ],
      "text/plain": [
       "<EpochsArray |  575 events (all good), 0 – 6 s, baseline off, ~144.9 MB, data loaded,\n",
       " '1': 575>"
      ]
     },
     "execution_count": 23,
     "metadata": {},
     "output_type": "execute_result"
    }
   ],
   "source": [
    "A"
   ]
  },
  {
   "cell_type": "code",
   "execution_count": 24,
   "id": "ed8ad072-3418-4c11-874c-e7ffa69bb46c",
   "metadata": {},
   "outputs": [
    {
     "data": {
      "text/html": [
       "<table class=\"table table-hover table-striped table-sm table-responsive small\">\n",
       "    <tr>\n",
       "        <th>Number of events</th>\n",
       "        <td>574</td>\n",
       "    </tr>\n",
       "    <tr>\n",
       "        <th>Events</th>\n",
       "        \n",
       "        <td>1: 574</td>\n",
       "        \n",
       "    </tr>\n",
       "    <tr>\n",
       "        <th>Time range</th>\n",
       "        <td>0.000 – 6.000 s</td>\n",
       "    </tr>\n",
       "    <tr>\n",
       "        <th>Baseline</th>\n",
       "        <td>off</td>\n",
       "    </tr>\n",
       "</table>"
      ],
      "text/plain": [
       "<EpochsArray |  574 events (all good), 0 – 6 s, baseline off, ~144.6 MB, data loaded,\n",
       " '1': 574>"
      ]
     },
     "execution_count": 24,
     "metadata": {},
     "output_type": "execute_result"
    }
   ],
   "source": [
    "#similarly printing classB\n",
    "B"
   ]
  },
  {
   "cell_type": "code",
   "execution_count": 25,
   "id": "4c7ee06b-4866-4bbc-9875-8cd8cdff87e6",
   "metadata": {},
   "outputs": [],
   "source": [
    "#similarly printing classC\n",
    "#C"
   ]
  },
  {
   "cell_type": "code",
   "execution_count": 26,
   "id": "0aa0b4ae-ca36-4f14-a97a-bfae8d079ca9",
   "metadata": {},
   "outputs": [],
   "source": [
    "#similarly printing classB\n",
    "#D"
   ]
  },
  {
   "cell_type": "code",
   "execution_count": 27,
   "id": "a582801a-7f9a-4b2c-9760-c577db6c82a6",
   "metadata": {},
   "outputs": [
    {
     "data": {
      "text/plain": [
       "\"def read_data(path):\\n  #raw=mne.io.read_raw_gdf(path,preload=True,eog=['EOG-left', 'EOG-central', 'EOG-right'])\\n  #raw.drop_channels(['EOG-left', 'EOG-central', 'EOG-right'])\\n  p.set_eeg_reference()\\n  events=mne.events_from_annotations(p)\\n  epochs = mne.Epochs(p, events[0], event_id=[7,8,9,10],on_missing ='warn') \\n#(on_missing is used for A04T.gdf data as it has missing eog data)\\n  labels=epochs.events[:,-1]\\n  features=epochs.get_data()\\n  return features,labels\""
      ]
     },
     "execution_count": 27,
     "metadata": {},
     "output_type": "execute_result"
    }
   ],
   "source": [
    "#creating a function for getting epochs,labels(same we have done as previous) (this function work on whole data file)\n",
    "'''def read_data(path):\n",
    "  #raw=mne.io.read_raw_gdf(path,preload=True,eog=['EOG-left', 'EOG-central', 'EOG-right'])\n",
    "  #raw.drop_channels(['EOG-left', 'EOG-central', 'EOG-right'])\n",
    "  p.set_eeg_reference()\n",
    "  events=mne.events_from_annotations(p)\n",
    "  epochs = mne.Epochs(p, events[0], event_id=[7,8,9,10],on_missing ='warn') \n",
    "#(on_missing is used for A04T.gdf data as it has missing eog data)\n",
    "  labels=epochs.events[:,-1]\n",
    "  features=epochs.get_data()\n",
    "  return features,labels'''"
   ]
  },
  {
   "cell_type": "code",
   "execution_count": 28,
   "id": "45144b26-ca8b-4aa4-8be5-1e10738dab01",
   "metadata": {},
   "outputs": [],
   "source": [
    "#reading the file and accessing the previous read_data function\n",
    "#features,labels=read_data(raw)"
   ]
  },
  {
   "cell_type": "code",
   "execution_count": 29,
   "id": "dc6f98e1-ab75-4a07-9bd4-b9c43b73976d",
   "metadata": {},
   "outputs": [],
   "source": [
    "#building the bandpass filter function\n",
    "def butter_bandpass_filter(signal, lowcut, highcut, fs, order=5):\n",
    "    nyq = 0.5 * fs\n",
    "    low = lowcut/nyq\n",
    "    high = highcut/nyq\n",
    "    b,a = butter(order, [low, high], btype='band')\n",
    "    y = lfilter(b, a, signal, axis=-1)\n",
    "    \n",
    "    return y"
   ]
  },
  {
   "cell_type": "code",
   "execution_count": 30,
   "id": "f9b79dc5-e69b-494b-bc53-99136dae6dd0",
   "metadata": {},
   "outputs": [],
   "source": [
    "#delta bandpass filter from class A\n",
    "def read_da(path):\n",
    "    fs = 250\n",
    "    lowcut = 0.5\n",
    "    highcut = 3.99\n",
    "    delta= butter_bandpass_filter(A, lowcut, highcut, fs, order=5)\n",
    "    \n",
    "    #datax=mne.io.read_raw_gdf(path,preload=True, eog=['EOG-left', 'EOG-central', 'EOG-right'])\n",
    "    #datax.drop_channels(['EOG-left', 'EOG-central', 'EOG-right'])\n",
    "    #classA = mne.Epochs(datax, events[0], event_id=[7],tmin=-0.1, tmax=1.15, preload=True)\n",
    "    '''classA.set_eeg_reference()\n",
    "    classA.filter(l_freq=0.5,h_freq=4)\n",
    "    chs=mne.make_fixed_length_epochs(classA,duration=25,overlap=0)\n",
    "    chs=chs.get_data()'''\n",
    "    return delta\n",
    "\n",
    "\n"
   ]
  },
  {
   "cell_type": "code",
   "execution_count": 31,
   "id": "6da4e29f-7034-4b4f-bb56-4ecb0058d269",
   "metadata": {},
   "outputs": [
    {
     "name": "stdout",
     "output_type": "stream",
     "text": [
      "(575, 22, 1501)\n"
     ]
    }
   ],
   "source": [
    "#getting the shape of the delta for classA\n",
    "deltaA=[0]\n",
    "deltaA=read_da(A)\n",
    "print(deltaA.shape)"
   ]
  },
  {
   "cell_type": "code",
   "execution_count": 32,
   "id": "dcc3f10e-431e-40b7-8ee9-7c44d100397e",
   "metadata": {},
   "outputs": [
    {
     "data": {
      "text/plain": [
       "(22, 1501)"
      ]
     },
     "execution_count": 32,
     "metadata": {},
     "output_type": "execute_result"
    }
   ],
   "source": [
    "deltaA[0].shape"
   ]
  },
  {
   "cell_type": "code",
   "execution_count": 33,
   "id": "4315aa22-d3d4-4b2b-b34e-743d6a69b33b",
   "metadata": {},
   "outputs": [],
   "source": [
    "#delta bandpass filter from class B\n",
    "def read_db(path):\n",
    "    fs = 250\n",
    "    lowcut = 0.5\n",
    "    highcut = 3.99\n",
    "    delta= butter_bandpass_filter(B, lowcut, highcut, fs, order=5)\n",
    "    \n",
    "    #datax=mne.io.read_raw_gdf(path,preload=True, eog=['EOG-left', 'EOG-central', 'EOG-right'])\n",
    "    #datax.drop_channels(['EOG-left', 'EOG-central', 'EOG-right'])\n",
    "    #classA = mne.Epochs(datax, events[0], event_id=[7],tmin=-0.1, tmax=1.15, preload=True)\n",
    "    '''classA.set_eeg_reference()\n",
    "    classA.filter(l_freq=0.5,h_freq=4)\n",
    "    chs=mne.make_fixed_length_epochs(classA,duration=25,overlap=0)\n",
    "    chs=chs.get_data()'''\n",
    "    return delta"
   ]
  },
  {
   "cell_type": "code",
   "execution_count": 34,
   "id": "84125aba-e8b2-4164-af42-3890cba02435",
   "metadata": {},
   "outputs": [
    {
     "name": "stdout",
     "output_type": "stream",
     "text": [
      "(574, 22, 1501)\n"
     ]
    }
   ],
   "source": [
    "#getting the shape of the delta for classB\n",
    "deltaB=[0] \n",
    "deltaB=read_db(B)\n",
    "print(deltaB.shape)"
   ]
  },
  {
   "cell_type": "code",
   "execution_count": 35,
   "id": "bf04e740-f697-47e2-a125-eccc29f8eb83",
   "metadata": {},
   "outputs": [
    {
     "data": {
      "text/plain": [
       "(22, 1501)"
      ]
     },
     "execution_count": 35,
     "metadata": {},
     "output_type": "execute_result"
    }
   ],
   "source": [
    "deltaB[0].shape"
   ]
  },
  {
   "cell_type": "code",
   "execution_count": 36,
   "id": "ba77ef76-a487-4006-a1a2-8cdb9a869594",
   "metadata": {},
   "outputs": [
    {
     "data": {
      "text/plain": [
       "'def read_dc(path):\\n    fs = 250\\n    lowcut = 0.5\\n    highcut = 3.99\\n    delta= butter_bandpass_filter(C, lowcut, highcut, fs, order=5)\\n    \\n    \\n    return delta'"
      ]
     },
     "execution_count": 36,
     "metadata": {},
     "output_type": "execute_result"
    }
   ],
   "source": [
    "#delta bandpass filter from class C\n",
    "'''def read_dc(path):\n",
    "    fs = 250\n",
    "    lowcut = 0.5\n",
    "    highcut = 3.99\n",
    "    delta= butter_bandpass_filter(C, lowcut, highcut, fs, order=5)\n",
    "    \n",
    "    \n",
    "    return delta'''"
   ]
  },
  {
   "cell_type": "code",
   "execution_count": 37,
   "id": "23897825-fe17-41bf-acaa-65a04628715e",
   "metadata": {},
   "outputs": [
    {
     "data": {
      "text/plain": [
       "'deltaC=[0]\\ndeltaC=read_dc(C)\\nprint(deltaC.shape)'"
      ]
     },
     "execution_count": 37,
     "metadata": {},
     "output_type": "execute_result"
    }
   ],
   "source": [
    "\n",
    "#getting the shape of the delta for classC\n",
    "'''deltaC=[0]\n",
    "deltaC=read_dc(C)\n",
    "print(deltaC.shape)'''"
   ]
  },
  {
   "cell_type": "code",
   "execution_count": 38,
   "id": "36c70b3c-f16a-4743-8a14-fd9bda2a3e43",
   "metadata": {},
   "outputs": [],
   "source": [
    "#deltaC"
   ]
  },
  {
   "cell_type": "code",
   "execution_count": 39,
   "id": "edea69b2-9844-4731-8dbd-dacc53a51554",
   "metadata": {},
   "outputs": [
    {
     "data": {
      "text/plain": [
       "'def read_dd(path):\\n    fs = 250\\n    lowcut = 0.5\\n    highcut = 3.99\\n    delta= butter_bandpass_filter(D, lowcut, highcut, fs, order=5)\\n    \\n    \\n    return delta'"
      ]
     },
     "execution_count": 39,
     "metadata": {},
     "output_type": "execute_result"
    }
   ],
   "source": [
    "#delta bandpass filter from class D\n",
    "'''def read_dd(path):\n",
    "    fs = 250\n",
    "    lowcut = 0.5\n",
    "    highcut = 3.99\n",
    "    delta= butter_bandpass_filter(D, lowcut, highcut, fs, order=5)\n",
    "    \n",
    "    \n",
    "    return delta'''"
   ]
  },
  {
   "cell_type": "code",
   "execution_count": 40,
   "id": "4ea60b1d-f047-4a9d-8b46-b8a89184a522",
   "metadata": {},
   "outputs": [
    {
     "data": {
      "text/plain": [
       "'deltaD=[0]\\ndeltaD=read_dd(D)\\nprint(deltaD.shape)'"
      ]
     },
     "execution_count": 40,
     "metadata": {},
     "output_type": "execute_result"
    }
   ],
   "source": [
    "#getting the shape of the delta for classD\n",
    "'''deltaD=[0]\n",
    "deltaD=read_dd(D)\n",
    "print(deltaD.shape)'''"
   ]
  },
  {
   "cell_type": "code",
   "execution_count": 41,
   "id": "f529ec02-f9f9-4183-9a6d-6bf8161592e6",
   "metadata": {},
   "outputs": [],
   "source": [
    "#theta bandpass filter from class A\n",
    "def read_de(path):\n",
    "    fs = 250\n",
    "    lowcut = 4\n",
    "    highcut = 7.99\n",
    "    theta= butter_bandpass_filter(A, lowcut, highcut, fs, order=5)\n",
    "    #datax=mne.io.read_raw_gdf(path,preload=True, eog=['EOG-left', 'EOG-central', 'EOG-right'])\n",
    "    #datax.drop_channels(['EOG-left', 'EOG-central', 'EOG-right'])\n",
    "    #datax.set_eeg_reference()\n",
    "    #datax.filter(l_freq=4,h_freq=8)\n",
    "    #chs=mne.make_fixed_length_epochs(y,duration=1.25,overlap=0)\n",
    "    #chs=chs.get_data()\n",
    "    return theta"
   ]
  },
  {
   "cell_type": "code",
   "execution_count": 42,
   "id": "cd7e4278-89a3-417e-9ca3-50c68359dcf0",
   "metadata": {},
   "outputs": [
    {
     "name": "stdout",
     "output_type": "stream",
     "text": [
      "(575, 22, 1501)\n"
     ]
    }
   ],
   "source": [
    "#getting the shape of the theta for class A\n",
    "thetaA=[0]\n",
    "thetaA=read_de(A)\n",
    "print(thetaA.shape)"
   ]
  },
  {
   "cell_type": "code",
   "execution_count": 43,
   "id": "d59c1dd3-d75a-444e-9812-1b899c3ea913",
   "metadata": {},
   "outputs": [],
   "source": [
    "#Theta bandpass filter from class B\n",
    "def read_df(path):\n",
    "    fs = 250\n",
    "    lowcut = 4\n",
    "    highcut = 7.99\n",
    "    theta= butter_bandpass_filter(B, lowcut, highcut, fs, order=5)\n",
    "    #datax=mne.io.read_raw_gdf(path,preload=True, eog=['EOG-left', 'EOG-central', 'EOG-right'])\n",
    "    #datax.drop_channels(['EOG-left', 'EOG-central', 'EOG-right'])\n",
    "    #datax.set_eeg_reference()\n",
    "    #datax.filter(l_freq=4,h_freq=8)\n",
    "    #chs=mne.make_fixed_length_epochs(y,duration=1.25,overlap=0)\n",
    "    #chs=chs.get_data()\n",
    "    return theta"
   ]
  },
  {
   "cell_type": "code",
   "execution_count": 44,
   "id": "99adf8c1-2a32-4a78-a5ff-042719c66059",
   "metadata": {},
   "outputs": [
    {
     "name": "stdout",
     "output_type": "stream",
     "text": [
      "(574, 22, 1501)\n"
     ]
    }
   ],
   "source": [
    "#getting the shape of the theta for class B\n",
    "thetaB=[0]\n",
    "thetaB=read_df(B)\n",
    "print(thetaB.shape)"
   ]
  },
  {
   "cell_type": "code",
   "execution_count": 45,
   "id": "26ba94f6-23c2-49b6-83cf-bfafebc829ca",
   "metadata": {},
   "outputs": [
    {
     "data": {
      "text/plain": [
       "\"def read_dg(path):\\n    fs = 250\\n    lowcut = 4\\n    highcut = 7.99\\n    theta= butter_bandpass_filter(C, lowcut, highcut, fs, order=5)\\n    #datax=mne.io.read_raw_gdf(path,preload=True, eog=['EOG-left', 'EOG-central', 'EOG-right'])\\n    #datax.drop_channels(['EOG-left', 'EOG-central', 'EOG-right'])\\n    #datax.set_eeg_reference()\\n    #datax.filter(l_freq=4,h_freq=8)\\n    #chs=mne.make_fixed_length_epochs(y,duration=1.25,overlap=0)\\n    #chs=chs.get_data()\\n    return theta\""
      ]
     },
     "execution_count": 45,
     "metadata": {},
     "output_type": "execute_result"
    }
   ],
   "source": [
    "#Theta bandpass filter from class C\n",
    "'''def read_dg(path):\n",
    "    fs = 250\n",
    "    lowcut = 4\n",
    "    highcut = 7.99\n",
    "    theta= butter_bandpass_filter(C, lowcut, highcut, fs, order=5)\n",
    "    #datax=mne.io.read_raw_gdf(path,preload=True, eog=['EOG-left', 'EOG-central', 'EOG-right'])\n",
    "    #datax.drop_channels(['EOG-left', 'EOG-central', 'EOG-right'])\n",
    "    #datax.set_eeg_reference()\n",
    "    #datax.filter(l_freq=4,h_freq=8)\n",
    "    #chs=mne.make_fixed_length_epochs(y,duration=1.25,overlap=0)\n",
    "    #chs=chs.get_data()\n",
    "    return theta'''"
   ]
  },
  {
   "cell_type": "code",
   "execution_count": 46,
   "id": "43874ad3-0e09-4ffb-b4a9-35d701b2ba5d",
   "metadata": {},
   "outputs": [
    {
     "data": {
      "text/plain": [
       "'thetaC=[0]\\nthetaC=read_dg(C)\\nprint(thetaC.shape)'"
      ]
     },
     "execution_count": 46,
     "metadata": {},
     "output_type": "execute_result"
    }
   ],
   "source": [
    "#getting the shape of the theta for class C\n",
    "'''thetaC=[0]\n",
    "thetaC=read_dg(C)\n",
    "print(thetaC.shape)'''"
   ]
  },
  {
   "cell_type": "code",
   "execution_count": 47,
   "id": "7a07436f-fbf5-4b25-9ffd-80f1384aff59",
   "metadata": {},
   "outputs": [],
   "source": [
    "#print(deltaC)"
   ]
  },
  {
   "cell_type": "code",
   "execution_count": 48,
   "id": "534dec2d-7162-4106-83e3-7766ec76bbb3",
   "metadata": {},
   "outputs": [
    {
     "data": {
      "text/plain": [
       "\"def read_dh(path):\\n    fs = 250\\n    lowcut = 4\\n    highcut = 7.99\\n    theta= butter_bandpass_filter(D, lowcut, highcut, fs, order=5)\\n    #datax=mne.io.read_raw_gdf(path,preload=True, eog=['EOG-left', 'EOG-central', 'EOG-right'])\\n    #datax.drop_channels(['EOG-left', 'EOG-central', 'EOG-right'])\\n    #datax.set_eeg_reference()\\n    #datax.filter(l_freq=4,h_freq=8)\\n    #chs=mne.make_fixed_length_epochs(y,duration=1.25,overlap=0)\\n    #chs=chs.get_data()\\n    return theta\""
      ]
     },
     "execution_count": 48,
     "metadata": {},
     "output_type": "execute_result"
    }
   ],
   "source": [
    "#Theta bandpass filter from class D\n",
    "'''def read_dh(path):\n",
    "    fs = 250\n",
    "    lowcut = 4\n",
    "    highcut = 7.99\n",
    "    theta= butter_bandpass_filter(D, lowcut, highcut, fs, order=5)\n",
    "    #datax=mne.io.read_raw_gdf(path,preload=True, eog=['EOG-left', 'EOG-central', 'EOG-right'])\n",
    "    #datax.drop_channels(['EOG-left', 'EOG-central', 'EOG-right'])\n",
    "    #datax.set_eeg_reference()\n",
    "    #datax.filter(l_freq=4,h_freq=8)\n",
    "    #chs=mne.make_fixed_length_epochs(y,duration=1.25,overlap=0)\n",
    "    #chs=chs.get_data()\n",
    "    return theta'''"
   ]
  },
  {
   "cell_type": "code",
   "execution_count": 49,
   "id": "4920fae9-61ce-4f73-a6c7-a37921abcb02",
   "metadata": {},
   "outputs": [
    {
     "data": {
      "text/plain": [
       "'thetaD=[0]\\nthetaD=read_dh(D)\\nprint(thetaD.shape)'"
      ]
     },
     "execution_count": 49,
     "metadata": {},
     "output_type": "execute_result"
    }
   ],
   "source": [
    "#getting the shape of the theta for class D\n",
    "'''thetaD=[0]\n",
    "thetaD=read_dh(D)\n",
    "print(thetaD.shape)'''"
   ]
  },
  {
   "cell_type": "code",
   "execution_count": 50,
   "id": "7750c171-9dd3-4591-85ff-89f164b91194",
   "metadata": {},
   "outputs": [],
   "source": [
    "#Alpha bandpass filter from class A\n",
    "def read_di(path):\n",
    "    fs = 250\n",
    "    lowcut = 8.01\n",
    "    highcut = 11.99\n",
    "    alpha= butter_bandpass_filter(A, lowcut, highcut, fs, order=5)\n",
    "    \n",
    "    '''datax=mne.io.read_raw_gdf(path,preload=True, eog=['EOG-left', 'EOG-central', 'EOG-right'])\n",
    "    datax.drop_channels(['EOG-left', 'EOG-central', 'EOG-right'])\n",
    "    datax.set_eeg_reference()\n",
    "    datax.filter(l_freq=8,h_freq=12)\n",
    "    chs=mne.make_fixed_length_epochs(datax,duration=1.25,overlap=0)\n",
    "    chs=chs.get_data()'''\n",
    "    return alpha"
   ]
  },
  {
   "cell_type": "code",
   "execution_count": 51,
   "id": "ab12c7e8-4f47-4220-a531-d71b5f234b72",
   "metadata": {},
   "outputs": [
    {
     "name": "stdout",
     "output_type": "stream",
     "text": [
      "(575, 22, 1501)\n"
     ]
    }
   ],
   "source": [
    "#getting the shape of the alpha for class A\n",
    "alphaA=[0]\n",
    "alphaA=read_di(A)\n",
    "print(alphaA.shape)"
   ]
  },
  {
   "cell_type": "code",
   "execution_count": 52,
   "id": "27677d26-5b21-4a39-a77f-e24aeaa6c25b",
   "metadata": {},
   "outputs": [],
   "source": [
    "#Alpha bandpass filter from class B\n",
    "def read_dj(path):\n",
    "    fs = 250\n",
    "    lowcut = 8.01\n",
    "    highcut = 11.99\n",
    "    alpha= butter_bandpass_filter(B, lowcut, highcut, fs, order=5)\n",
    "    \n",
    "    '''datax=mne.io.read_raw_gdf(path,preload=True, eog=['EOG-left', 'EOG-central', 'EOG-right'])\n",
    "    datax.drop_channels(['EOG-left', 'EOG-central', 'EOG-right'])\n",
    "    datax.set_eeg_reference()\n",
    "    datax.filter(l_freq=8,h_freq=12)\n",
    "    chs=mne.make_fixed_length_epochs(datax,duration=1.25,overlap=0)\n",
    "    chs=chs.get_data()'''\n",
    "    return alpha"
   ]
  },
  {
   "cell_type": "code",
   "execution_count": 53,
   "id": "69431ec5-79db-4309-b889-52254781acbf",
   "metadata": {},
   "outputs": [
    {
     "name": "stdout",
     "output_type": "stream",
     "text": [
      "(574, 22, 1501)\n"
     ]
    }
   ],
   "source": [
    "#getting the shape of the alpha of class B\n",
    "alphaB=[0]\n",
    "alphaB=read_dj(B)\n",
    "print(alphaB.shape)"
   ]
  },
  {
   "cell_type": "code",
   "execution_count": 54,
   "id": "956dbcab-2960-437a-a64f-848409b96dbc",
   "metadata": {},
   "outputs": [
    {
     "data": {
      "text/plain": [
       "'def read_dk(path):\\n    fs = 250\\n    lowcut = 8.01\\n    highcut = 11.99\\n    alpha= butter_bandpass_filter(C, lowcut, highcut, fs, order=5)\\n    \\n    \\n    return alpha'"
      ]
     },
     "execution_count": 54,
     "metadata": {},
     "output_type": "execute_result"
    }
   ],
   "source": [
    "#Alpha bandpass filter from class C\n",
    "'''def read_dk(path):\n",
    "    fs = 250\n",
    "    lowcut = 8.01\n",
    "    highcut = 11.99\n",
    "    alpha= butter_bandpass_filter(C, lowcut, highcut, fs, order=5)\n",
    "    \n",
    "    \n",
    "    return alpha'''"
   ]
  },
  {
   "cell_type": "code",
   "execution_count": 55,
   "id": "591c9747-ee90-4f6e-8ae5-eb431fbaf59d",
   "metadata": {},
   "outputs": [
    {
     "data": {
      "text/plain": [
       "'alphaC=[0]\\nalphaC=read_dk(C)\\nprint(alphaC.shape)'"
      ]
     },
     "execution_count": 55,
     "metadata": {},
     "output_type": "execute_result"
    }
   ],
   "source": [
    "#getting the shape of the alpha of class C\n",
    "'''alphaC=[0]\n",
    "alphaC=read_dk(C)\n",
    "print(alphaC.shape)'''"
   ]
  },
  {
   "cell_type": "code",
   "execution_count": 56,
   "id": "58372c0d-cf6a-46c7-8303-fe879465f043",
   "metadata": {},
   "outputs": [],
   "source": [
    "#print(alphaC)"
   ]
  },
  {
   "cell_type": "code",
   "execution_count": 57,
   "id": "4eae6f8d-b640-4664-871f-f1c469972a52",
   "metadata": {},
   "outputs": [
    {
     "data": {
      "text/plain": [
       "'def read_dl(path):\\n    fs = 250\\n    lowcut = 8.01\\n    highcut = 11.99\\n    alpha= butter_bandpass_filter(D, lowcut, highcut, fs, order=5)\\n    \\n   \\n    return alpha'"
      ]
     },
     "execution_count": 57,
     "metadata": {},
     "output_type": "execute_result"
    }
   ],
   "source": [
    "#Alpha bandpass filter from class D\n",
    "'''def read_dl(path):\n",
    "    fs = 250\n",
    "    lowcut = 8.01\n",
    "    highcut = 11.99\n",
    "    alpha= butter_bandpass_filter(D, lowcut, highcut, fs, order=5)\n",
    "    \n",
    "   \n",
    "    return alpha'''"
   ]
  },
  {
   "cell_type": "code",
   "execution_count": 58,
   "id": "c7fa9285-a889-4762-a23f-6cc17e930a92",
   "metadata": {},
   "outputs": [
    {
     "data": {
      "text/plain": [
       "'alphaD=[0]\\nalphaD=read_dl(D)\\nprint(alphaD.shape)'"
      ]
     },
     "execution_count": 58,
     "metadata": {},
     "output_type": "execute_result"
    }
   ],
   "source": [
    "#getting the shape of the alpha of class D\n",
    "'''alphaD=[0]\n",
    "alphaD=read_dl(D)\n",
    "print(alphaD.shape)'''"
   ]
  },
  {
   "cell_type": "code",
   "execution_count": 59,
   "id": "ad06eebc-8ee7-4485-83d2-03297c153b38",
   "metadata": {},
   "outputs": [],
   "source": [
    "#Beta bandpass filter from class A\n",
    "def read_dm(path):\n",
    "    fs = 250\n",
    "    lowcut = 12.01\n",
    "    highcut = 29.99\n",
    "    beta= butter_bandpass_filter(A, lowcut, highcut, fs, order=5)\n",
    "    \n",
    "    #datax=mne.io.read_raw_gdf(path,preload=True, eog=['EOG-left', 'EOG-central', 'EOG-right'])\n",
    "    '''datax.drop_channels(['EOG-left', 'EOG-central', 'EOG-right'])\n",
    "    datax.set_eeg_reference()\n",
    "    datax.filter(l_freq=12,h_freq=30)\n",
    "    chs=mne.make_fixed_length_epochs(datax,duration=1.25,overlap=0)\n",
    "    chs=chs.get_data()'''\n",
    "    return beta"
   ]
  },
  {
   "cell_type": "code",
   "execution_count": 60,
   "id": "c7d14ea2-4477-4e6a-b4cf-94366d9b755a",
   "metadata": {},
   "outputs": [
    {
     "name": "stdout",
     "output_type": "stream",
     "text": [
      "(575, 22, 1501)\n"
     ]
    }
   ],
   "source": [
    "#getting the shape of the beta of class A\n",
    "betaA=[0]\n",
    "betaA=read_dm(A)\n",
    "print(betaA.shape)"
   ]
  },
  {
   "cell_type": "code",
   "execution_count": 61,
   "id": "c5781b19-fa74-45f0-8003-da90b9f6e5e1",
   "metadata": {},
   "outputs": [],
   "source": [
    "#Beta bandpass filter from class B\n",
    "def read_dn(path):\n",
    "    fs = 250\n",
    "    lowcut = 12.01\n",
    "    highcut = 29.99\n",
    "    beta= butter_bandpass_filter(B, lowcut, highcut, fs, order=5)\n",
    "    \n",
    "    #datax=mne.io.read_raw_gdf(path,preload=True, eog=['EOG-left', 'EOG-central', 'EOG-right'])\n",
    "    '''datax.drop_channels(['EOG-left', 'EOG-central', 'EOG-right'])\n",
    "    datax.set_eeg_reference()\n",
    "    datax.filter(l_freq=12,h_freq=30)\n",
    "    chs=mne.make_fixed_length_epochs(datax,duration=1.25,overlap=0)\n",
    "    chs=chs.get_data()'''\n",
    "    return beta"
   ]
  },
  {
   "cell_type": "code",
   "execution_count": 62,
   "id": "2456071e-0598-4661-88d3-78aa9d04ff1d",
   "metadata": {},
   "outputs": [
    {
     "name": "stdout",
     "output_type": "stream",
     "text": [
      "(574, 22, 1501)\n"
     ]
    }
   ],
   "source": [
    "#getting the shape of the beta of class B\n",
    "betaB=[0]\n",
    "betaB=read_dn(B)\n",
    "print(betaB.shape)"
   ]
  },
  {
   "cell_type": "code",
   "execution_count": 63,
   "id": "fce79ae2-2707-425a-87da-72f9e1d6213b",
   "metadata": {},
   "outputs": [
    {
     "data": {
      "text/plain": [
       "'def read_do(path):\\n    fs = 250\\n    lowcut = 12.01\\n    highcut = 29.99\\n    beta= butter_bandpass_filter(C, lowcut, highcut, fs, order=5)\\n    \\n   \\n    return beta'"
      ]
     },
     "execution_count": 63,
     "metadata": {},
     "output_type": "execute_result"
    }
   ],
   "source": [
    "#Beta bandpass filter from class C\n",
    "'''def read_do(path):\n",
    "    fs = 250\n",
    "    lowcut = 12.01\n",
    "    highcut = 29.99\n",
    "    beta= butter_bandpass_filter(C, lowcut, highcut, fs, order=5)\n",
    "    \n",
    "   \n",
    "    return beta'''"
   ]
  },
  {
   "cell_type": "code",
   "execution_count": 64,
   "id": "648293c0-4d78-4388-baac-eb9e0c21d8f2",
   "metadata": {},
   "outputs": [
    {
     "data": {
      "text/plain": [
       "'betaC=[0]\\nbetaC=read_do(C)\\nprint(betaC.shape)'"
      ]
     },
     "execution_count": 64,
     "metadata": {},
     "output_type": "execute_result"
    }
   ],
   "source": [
    "#getting the shape of the beta of class C\n",
    "'''betaC=[0]\n",
    "betaC=read_do(C)\n",
    "print(betaC.shape)'''"
   ]
  },
  {
   "cell_type": "code",
   "execution_count": 65,
   "id": "c4e86d88-a6bf-4cf1-81ec-5b612a6e2150",
   "metadata": {},
   "outputs": [],
   "source": [
    "#print(betaC)"
   ]
  },
  {
   "cell_type": "code",
   "execution_count": 66,
   "id": "7ac73eac-a6ea-4e17-ba27-6be9a78c56c4",
   "metadata": {},
   "outputs": [
    {
     "data": {
      "text/plain": [
       "'def read_dp(path):\\n    fs = 250\\n    lowcut = 12.01\\n    highcut = 29.99\\n    beta= butter_bandpass_filter(D, lowcut, highcut, fs, order=5)\\n    \\n    \\n    return beta'"
      ]
     },
     "execution_count": 66,
     "metadata": {},
     "output_type": "execute_result"
    }
   ],
   "source": [
    "#Beta bandpass filter from class D\n",
    "'''def read_dp(path):\n",
    "    fs = 250\n",
    "    lowcut = 12.01\n",
    "    highcut = 29.99\n",
    "    beta= butter_bandpass_filter(D, lowcut, highcut, fs, order=5)\n",
    "    \n",
    "    \n",
    "    return beta'''"
   ]
  },
  {
   "cell_type": "code",
   "execution_count": 67,
   "id": "2b4b4644-8dd7-488d-aeba-b6e6daad8d77",
   "metadata": {},
   "outputs": [
    {
     "data": {
      "text/plain": [
       "'betaD=[0]\\nbetaD=read_dp(D)\\nprint(betaD.shape)'"
      ]
     },
     "execution_count": 67,
     "metadata": {},
     "output_type": "execute_result"
    }
   ],
   "source": [
    "#getting the shape of the beta of class D\n",
    "'''betaD=[0]\n",
    "betaD=read_dp(D)\n",
    "print(betaD.shape)'''"
   ]
  },
  {
   "cell_type": "code",
   "execution_count": 68,
   "id": "eea15774-293d-4ded-8db1-d29afd42d376",
   "metadata": {},
   "outputs": [],
   "source": [
    "#Gamma bandpass filter from class A\n",
    "def read_dq(path):\n",
    "    fs = 250\n",
    "    lowcut = 30.01\n",
    "    highcut = 100\n",
    "    gamma= butter_bandpass_filter(A, lowcut, highcut, fs, order=5)\n",
    "    \n",
    "    \n",
    "    return gamma"
   ]
  },
  {
   "cell_type": "code",
   "execution_count": 69,
   "id": "9a9600cb-8b0f-4c76-82a6-4f8ff33404f9",
   "metadata": {},
   "outputs": [
    {
     "name": "stdout",
     "output_type": "stream",
     "text": [
      "(575, 22, 1501)\n"
     ]
    }
   ],
   "source": [
    "#getting the shape of the gamma of class A\n",
    "gammaA=[0]\n",
    "gammaA=read_dq(A)\n",
    "print(gammaA.shape)"
   ]
  },
  {
   "cell_type": "code",
   "execution_count": 70,
   "id": "f4d1fe89-0d64-416f-836d-992fd6a6bf0d",
   "metadata": {},
   "outputs": [],
   "source": [
    "#Gamma bandpass filter from class B\n",
    "def read_dr(path):\n",
    "    fs = 250\n",
    "    lowcut = 30.01\n",
    "    highcut = 100\n",
    "    gamma= butter_bandpass_filter(B, lowcut, highcut, fs, order=5)\n",
    "    \n",
    "    '''datax=mne.io.read_raw_gdf(path,preload=True, eog=['EOG-left', 'EOG-central', 'EOG-right'])\n",
    "    datax.drop_channels(['EOG-left', 'EOG-central', 'EOG-right'])\n",
    "    datax.set_eeg_reference()\n",
    "    datax.filter(l_freq=30,h_freq=100)\n",
    "    chs=mne.make_fixed_length_epochs(datax,duration=1.25,overlap=0)\n",
    "    chs=chs.get_data()'''\n",
    "    return gamma"
   ]
  },
  {
   "cell_type": "code",
   "execution_count": 71,
   "id": "9e7c32c9-be35-453c-9daf-74803452e5c1",
   "metadata": {},
   "outputs": [
    {
     "name": "stdout",
     "output_type": "stream",
     "text": [
      "(574, 22, 1501)\n"
     ]
    }
   ],
   "source": [
    "#getting the shape of the gamma of class B\n",
    "gammaB=[0]\n",
    "gammaB=read_dr(B)\n",
    "print(gammaB.shape)"
   ]
  },
  {
   "cell_type": "code",
   "execution_count": 72,
   "id": "d2b59117-e881-41c2-b2d5-f930978fa207",
   "metadata": {},
   "outputs": [
    {
     "data": {
      "text/plain": [
       "'def read_ds(path):\\n    fs = 250\\n    lowcut = 30.01\\n    highcut = 100\\n    gamma= butter_bandpass_filter(C, lowcut, highcut, fs, order=5)\\n    \\n    \\n    \\n    return gamma'"
      ]
     },
     "execution_count": 72,
     "metadata": {},
     "output_type": "execute_result"
    }
   ],
   "source": [
    "#Gamma bandpass filter from class C\n",
    "'''def read_ds(path):\n",
    "    fs = 250\n",
    "    lowcut = 30.01\n",
    "    highcut = 100\n",
    "    gamma= butter_bandpass_filter(C, lowcut, highcut, fs, order=5)\n",
    "    \n",
    "    \n",
    "    \n",
    "    return gamma'''"
   ]
  },
  {
   "cell_type": "code",
   "execution_count": 73,
   "id": "5aa4a5ca-05fa-48d8-b450-82277f3c0299",
   "metadata": {},
   "outputs": [
    {
     "data": {
      "text/plain": [
       "'gammaC=[0]\\ngammaC=read_ds(C)\\nprint(gammaC.shape)'"
      ]
     },
     "execution_count": 73,
     "metadata": {},
     "output_type": "execute_result"
    }
   ],
   "source": [
    "#getting the shape of the gamma of class C\n",
    "'''gammaC=[0]\n",
    "gammaC=read_ds(C)\n",
    "print(gammaC.shape)'''"
   ]
  },
  {
   "cell_type": "code",
   "execution_count": 74,
   "id": "44bb3f7a-7b48-4fdd-a342-80088ae9b038",
   "metadata": {},
   "outputs": [
    {
     "data": {
      "text/plain": [
       "'def read_dt(path):\\n    fs = 250\\n    lowcut = 30.01\\n    highcut = 100\\n    gamma= butter_bandpass_filter(D, lowcut, highcut, fs, order=5)\\n    \\n    \\n    \\n    return gamma'"
      ]
     },
     "execution_count": 74,
     "metadata": {},
     "output_type": "execute_result"
    }
   ],
   "source": [
    "#Gamma bandpass filter from class D\n",
    "'''def read_dt(path):\n",
    "    fs = 250\n",
    "    lowcut = 30.01\n",
    "    highcut = 100\n",
    "    gamma= butter_bandpass_filter(D, lowcut, highcut, fs, order=5)\n",
    "    \n",
    "    \n",
    "    \n",
    "    return gamma'''"
   ]
  },
  {
   "cell_type": "code",
   "execution_count": 75,
   "id": "b9044bfb-b321-45ff-a3d3-f23b1ad3c3ad",
   "metadata": {},
   "outputs": [
    {
     "data": {
      "text/plain": [
       "'gammaD=[0]\\ngammaD=read_dt(D)\\nprint(gammaD.shape)'"
      ]
     },
     "execution_count": 75,
     "metadata": {},
     "output_type": "execute_result"
    }
   ],
   "source": [
    "#getting the shape of the gamma of class D\n",
    "'''gammaD=[0]\n",
    "gammaD=read_dt(D)\n",
    "print(gammaD.shape)'''"
   ]
  },
  {
   "cell_type": "code",
   "execution_count": 76,
   "id": "5baaf048-8f6a-49d2-b990-dfc5e915d25f",
   "metadata": {},
   "outputs": [
    {
     "data": {
      "text/plain": [
       "(22, 1501)"
      ]
     },
     "execution_count": 76,
     "metadata": {},
     "output_type": "execute_result"
    }
   ],
   "source": [
    "deltaB[1].shape"
   ]
  },
  {
   "cell_type": "code",
   "execution_count": 77,
   "id": "b2cc5aaf-e793-4c57-b5aa-64e2af51e68d",
   "metadata": {},
   "outputs": [
    {
     "data": {
      "text/plain": [
       "(575, 22, 1501)"
      ]
     },
     "execution_count": 77,
     "metadata": {},
     "output_type": "execute_result"
    }
   ],
   "source": [
    "gammaA.shape"
   ]
  },
  {
   "cell_type": "code",
   "execution_count": 78,
   "id": "cad8ae33-ca38-4cd9-ae47-bb000e165b9f",
   "metadata": {},
   "outputs": [],
   "source": [
    "def hjorth_params(signal):\n",
    "    first_diff = np.diff(signal)\n",
    "    second_diff = np.diff(first_diff)\n",
    "    \n",
    "    activity = np.var(signal)\n",
    "    mobility = np.sqrt(np.var(first_diff) / np.var(signal))\n",
    "    complexity = np.sqrt(np.var(second_diff) / np.var(first_diff)) / mobility\n",
    "    \n",
    "    return activity, mobility, complexity"
   ]
  },
  {
   "cell_type": "code",
   "execution_count": 79,
   "id": "6c83af98-24b3-487a-8b2e-411372dfa81e",
   "metadata": {},
   "outputs": [],
   "source": [
    "aDelta=np.append(deltaA,deltaB)"
   ]
  },
  {
   "cell_type": "code",
   "execution_count": 80,
   "id": "0ceeed98-9e6d-4816-b57c-89316e111154",
   "metadata": {},
   "outputs": [
    {
     "data": {
      "text/plain": [
       "(37942278,)"
      ]
     },
     "execution_count": 80,
     "metadata": {},
     "output_type": "execute_result"
    }
   ],
   "source": [
    "aDelta.shape"
   ]
  },
  {
   "cell_type": "code",
   "execution_count": 81,
   "id": "a6a599d7-374d-4c15-aeb0-ede074c9bf69",
   "metadata": {},
   "outputs": [
    {
     "data": {
      "text/plain": [
       "(37942278,)"
      ]
     },
     "execution_count": 81,
     "metadata": {},
     "output_type": "execute_result"
    }
   ],
   "source": [
    "aTheta=np.append(thetaA,thetaB)\n",
    "aTheta.shape"
   ]
  },
  {
   "cell_type": "code",
   "execution_count": 82,
   "id": "f3c3f9a8-ea70-4804-88cb-4de7d3df4122",
   "metadata": {},
   "outputs": [
    {
     "data": {
      "text/plain": [
       "(37942278,)"
      ]
     },
     "execution_count": 82,
     "metadata": {},
     "output_type": "execute_result"
    }
   ],
   "source": [
    "aAlpha=np.append(alphaA,alphaB)\n",
    "aAlpha.shape"
   ]
  },
  {
   "cell_type": "code",
   "execution_count": 83,
   "id": "581e64ba-90c6-4f24-b60d-da3b371716db",
   "metadata": {},
   "outputs": [
    {
     "data": {
      "text/plain": [
       "(575, 22, 1501)"
      ]
     },
     "execution_count": 83,
     "metadata": {},
     "output_type": "execute_result"
    }
   ],
   "source": [
    "alphaA.shape"
   ]
  },
  {
   "cell_type": "code",
   "execution_count": 84,
   "id": "287c03a7-cb92-477c-b251-9dc30833730b",
   "metadata": {},
   "outputs": [
    {
     "data": {
      "text/plain": [
       "(37942278,)"
      ]
     },
     "execution_count": 84,
     "metadata": {},
     "output_type": "execute_result"
    }
   ],
   "source": [
    "aBeta=np.append(betaA,betaB)\n",
    "aBeta.shape"
   ]
  },
  {
   "cell_type": "code",
   "execution_count": 85,
   "id": "17226fdd-aadf-4a4a-bb73-f665ee938a15",
   "metadata": {},
   "outputs": [
    {
     "data": {
      "text/plain": [
       "(37942278,)"
      ]
     },
     "execution_count": 85,
     "metadata": {},
     "output_type": "execute_result"
    }
   ],
   "source": [
    "aGamma=np.append(gammaA,gammaB)\n",
    "aGamma.shape"
   ]
  },
  {
   "cell_type": "code",
   "execution_count": 86,
   "id": "eff8c157-22c2-4d81-971f-0fc9f1f58151",
   "metadata": {},
   "outputs": [],
   "source": [
    "aData = np.column_stack((aDelta, aTheta, aAlpha, aBeta, aGamma))"
   ]
  },
  {
   "cell_type": "code",
   "execution_count": 87,
   "id": "683230e4-8a40-46d8-9eff-c437535961cd",
   "metadata": {},
   "outputs": [
    {
     "data": {
      "text/plain": [
       "(37942278, 5)"
      ]
     },
     "execution_count": 87,
     "metadata": {},
     "output_type": "execute_result"
    }
   ],
   "source": [
    "aData.shape"
   ]
  },
  {
   "cell_type": "code",
   "execution_count": 88,
   "id": "33d28d3b-0f7d-4545-80f7-41c3eae17268",
   "metadata": {},
   "outputs": [],
   "source": [
    "#alldata=deltaA+deltaB+deltaC+deltaD\n",
    "#len(alldata)\n",
    "allA=[deltaA,thetaA,alphaA,betaA,gammaA]\n",
    "allB=[deltaB,thetaB,alphaB,betaB,gammaB]\n",
    "#allC=[deltaC,thetaC,alphaC,betaC,gammaC]\n",
    "#allD=[deltaD,thetaD,alphaD,betaD,gammaD]\n",
    "#deltaB,thetaB,alphaB,betaB,gammaB,deltaC,thetaC,alphaC,betaC,gammaC,deltaD,thetaD,alphaD,betaD,gammaD]"
   ]
  },
  {
   "cell_type": "code",
   "execution_count": 89,
   "id": "693c18e5-109c-494c-87c5-849d115858e8",
   "metadata": {},
   "outputs": [
    {
     "data": {
      "text/plain": [
       "(5, 575, 22, 1501)"
      ]
     },
     "execution_count": 89,
     "metadata": {},
     "output_type": "execute_result"
    }
   ],
   "source": [
    "fullA = np.array(allA)\n",
    "fullA.shape"
   ]
  },
  {
   "cell_type": "code",
   "execution_count": 90,
   "id": "3e6e4127-181b-4b43-b901-84bb4a5a0bbd",
   "metadata": {},
   "outputs": [
    {
     "data": {
      "text/plain": [
       "(5, 574, 22, 1501)"
      ]
     },
     "execution_count": 90,
     "metadata": {},
     "output_type": "execute_result"
    }
   ],
   "source": [
    "fullB = np.array(allB)\n",
    "fullB.shape"
   ]
  },
  {
   "cell_type": "code",
   "execution_count": 91,
   "id": "6d6b0aaf-eda7-472e-ae06-346b71b0bf44",
   "metadata": {},
   "outputs": [
    {
     "data": {
      "text/plain": [
       "'fullC = np.array(allC)\\nfullC.shape'"
      ]
     },
     "execution_count": 91,
     "metadata": {},
     "output_type": "execute_result"
    }
   ],
   "source": [
    "'''fullC = np.array(allC)\n",
    "fullC.shape'''"
   ]
  },
  {
   "cell_type": "code",
   "execution_count": 92,
   "id": "ab23027e-9a99-4392-b707-af090cd56e85",
   "metadata": {},
   "outputs": [
    {
     "data": {
      "text/plain": [
       "'fullD = np.array(allD)\\nfullD.shape'"
      ]
     },
     "execution_count": 92,
     "metadata": {},
     "output_type": "execute_result"
    }
   ],
   "source": [
    "'''fullD = np.array(allD)\n",
    "fullD.shape'''"
   ]
  },
  {
   "cell_type": "code",
   "execution_count": 93,
   "id": "ee203a58-531b-48f9-9e70-10d4c180f325",
   "metadata": {},
   "outputs": [
    {
     "data": {
      "text/plain": [
       "(189711390,)"
      ]
     },
     "execution_count": 93,
     "metadata": {},
     "output_type": "execute_result"
    }
   ],
   "source": [
    "x=np.append(fullA,fullB)\n",
    "x.shape"
   ]
  },
  {
   "cell_type": "code",
   "execution_count": 94,
   "id": "a4f939dd-b00c-4aca-835b-b081bcd514ea",
   "metadata": {},
   "outputs": [],
   "source": [
    "xp=np.empty(37942278,dtype=int)"
   ]
  },
  {
   "cell_type": "code",
   "execution_count": 95,
   "id": "65cd1436-b03c-4df6-b933-3b6ba6424d96",
   "metadata": {},
   "outputs": [
    {
     "data": {
      "text/plain": [
       "(37942278,)"
      ]
     },
     "execution_count": 95,
     "metadata": {},
     "output_type": "execute_result"
    }
   ],
   "source": [
    "xp.shape"
   ]
  },
  {
   "cell_type": "code",
   "execution_count": 96,
   "id": "f467bdf9-20e6-449a-ac47-7df7529a4b0d",
   "metadata": {},
   "outputs": [
    {
     "data": {
      "text/plain": [
       "(37942278,)"
      ]
     },
     "execution_count": 96,
     "metadata": {},
     "output_type": "execute_result"
    }
   ],
   "source": [
    "for i in range(0,18987650):\n",
    "    xp[i]=0\n",
    "for i in range(18987650,37942278):\n",
    "    xp[i]=1\n",
    "\n",
    "xp.shape"
   ]
  },
  {
   "cell_type": "code",
   "execution_count": 97,
   "id": "622606dd-c0bd-4e25-a094-4325a184bdb6",
   "metadata": {},
   "outputs": [],
   "source": [
    "from sklearn.model_selection import train_test_split\n",
    "x_train,x_test,y_train,y_test=train_test_split(aData,xp,test_size=0.2,random_state=0)\n"
   ]
  },
  {
   "cell_type": "code",
   "execution_count": 98,
   "id": "11046342-ba50-40b4-8700-643b524f62a1",
   "metadata": {},
   "outputs": [],
   "source": [
    "from sklearn.preprocessing import StandardScaler\n",
    "ac=StandardScaler()\n",
    "x_train=ac.fit_transform(x_train)\n",
    "x_test=ac.transform(x_test)"
   ]
  },
  {
   "cell_type": "code",
   "execution_count": 99,
   "id": "53488376-ecbf-4ba5-b4f6-5d9de3aba110",
   "metadata": {
    "tags": []
   },
   "outputs": [
    {
     "data": {
      "text/plain": [
       "array([1, 1, 1, ..., 0, 0, 0])"
      ]
     },
     "execution_count": 99,
     "metadata": {},
     "output_type": "execute_result"
    }
   ],
   "source": [
    "y_train"
   ]
  },
  {
   "cell_type": "code",
   "execution_count": 100,
   "id": "ef69bcd8-6eee-48b6-8a1e-fbc3add2cd8e",
   "metadata": {},
   "outputs": [
    {
     "data": {
      "text/plain": [
       "\"from sklearn.neighbors import KNeighborsClassifier \\nclassknn=KNeighborsClassifier(n_neighbors=5,metric='minkowski',p=2)\\nclassknn.fit(x_train,y_train)\""
      ]
     },
     "execution_count": 100,
     "metadata": {},
     "output_type": "execute_result"
    }
   ],
   "source": [
    "'''from sklearn.neighbors import KNeighborsClassifier \n",
    "classknn=KNeighborsClassifier(n_neighbors=5,metric='minkowski',p=2)\n",
    "classknn.fit(x_train,y_train)'''"
   ]
  },
  {
   "cell_type": "code",
   "execution_count": 101,
   "id": "da543755-d172-44a3-b0a3-d582fb74cfe6",
   "metadata": {
    "tags": []
   },
   "outputs": [
    {
     "ename": "MemoryError",
     "evalue": "Unable to allocate 348. MiB for an array with shape (45569136,) and data type float64",
     "output_type": "error",
     "traceback": [
      "\u001b[1;31m---------------------------------------------------------------------------\u001b[0m",
      "\u001b[1;31mMemoryError\u001b[0m                               Traceback (most recent call last)",
      "Cell \u001b[1;32mIn[101], line 11\u001b[0m\n\u001b[0;32m      8\u001b[0m selector \u001b[38;5;241m=\u001b[39m SelectKBest(score_func\u001b[38;5;241m=\u001b[39mmutual_info_classif, k\u001b[38;5;241m=\u001b[39mnum_features_to_select)\n\u001b[0;32m     10\u001b[0m \u001b[38;5;66;03m# Fit the selector to the training data and transform the training features\u001b[39;00m\n\u001b[1;32m---> 11\u001b[0m x_train_new \u001b[38;5;241m=\u001b[39m \u001b[43mselector\u001b[49m\u001b[38;5;241;43m.\u001b[39;49m\u001b[43mfit_transform\u001b[49m\u001b[43m(\u001b[49m\u001b[43mx_train\u001b[49m\u001b[43m,\u001b[49m\u001b[43m \u001b[49m\u001b[43my_train\u001b[49m\u001b[43m)\u001b[49m\n\u001b[0;32m     13\u001b[0m \u001b[38;5;66;03m# Transform the testing features using the same selector\u001b[39;00m\n\u001b[0;32m     14\u001b[0m x_test_new \u001b[38;5;241m=\u001b[39m selector\u001b[38;5;241m.\u001b[39mtransform(x_test)\n",
      "File \u001b[1;32m~\\anaconda3\\Lib\\site-packages\\sklearn\\utils\\_set_output.py:140\u001b[0m, in \u001b[0;36m_wrap_method_output.<locals>.wrapped\u001b[1;34m(self, X, *args, **kwargs)\u001b[0m\n\u001b[0;32m    138\u001b[0m \u001b[38;5;129m@wraps\u001b[39m(f)\n\u001b[0;32m    139\u001b[0m \u001b[38;5;28;01mdef\u001b[39;00m \u001b[38;5;21mwrapped\u001b[39m(\u001b[38;5;28mself\u001b[39m, X, \u001b[38;5;241m*\u001b[39margs, \u001b[38;5;241m*\u001b[39m\u001b[38;5;241m*\u001b[39mkwargs):\n\u001b[1;32m--> 140\u001b[0m     data_to_wrap \u001b[38;5;241m=\u001b[39m \u001b[43mf\u001b[49m\u001b[43m(\u001b[49m\u001b[38;5;28;43mself\u001b[39;49m\u001b[43m,\u001b[49m\u001b[43m \u001b[49m\u001b[43mX\u001b[49m\u001b[43m,\u001b[49m\u001b[43m \u001b[49m\u001b[38;5;241;43m*\u001b[39;49m\u001b[43margs\u001b[49m\u001b[43m,\u001b[49m\u001b[43m \u001b[49m\u001b[38;5;241;43m*\u001b[39;49m\u001b[38;5;241;43m*\u001b[39;49m\u001b[43mkwargs\u001b[49m\u001b[43m)\u001b[49m\n\u001b[0;32m    141\u001b[0m     \u001b[38;5;28;01mif\u001b[39;00m \u001b[38;5;28misinstance\u001b[39m(data_to_wrap, \u001b[38;5;28mtuple\u001b[39m):\n\u001b[0;32m    142\u001b[0m         \u001b[38;5;66;03m# only wrap the first output for cross decomposition\u001b[39;00m\n\u001b[0;32m    143\u001b[0m         return_tuple \u001b[38;5;241m=\u001b[39m (\n\u001b[0;32m    144\u001b[0m             _wrap_data_with_container(method, data_to_wrap[\u001b[38;5;241m0\u001b[39m], X, \u001b[38;5;28mself\u001b[39m),\n\u001b[0;32m    145\u001b[0m             \u001b[38;5;241m*\u001b[39mdata_to_wrap[\u001b[38;5;241m1\u001b[39m:],\n\u001b[0;32m    146\u001b[0m         )\n",
      "File \u001b[1;32m~\\anaconda3\\Lib\\site-packages\\sklearn\\base.py:918\u001b[0m, in \u001b[0;36mTransformerMixin.fit_transform\u001b[1;34m(self, X, y, **fit_params)\u001b[0m\n\u001b[0;32m    915\u001b[0m     \u001b[38;5;28;01mreturn\u001b[39;00m \u001b[38;5;28mself\u001b[39m\u001b[38;5;241m.\u001b[39mfit(X, \u001b[38;5;241m*\u001b[39m\u001b[38;5;241m*\u001b[39mfit_params)\u001b[38;5;241m.\u001b[39mtransform(X)\n\u001b[0;32m    916\u001b[0m \u001b[38;5;28;01melse\u001b[39;00m:\n\u001b[0;32m    917\u001b[0m     \u001b[38;5;66;03m# fit method of arity 2 (supervised transformation)\u001b[39;00m\n\u001b[1;32m--> 918\u001b[0m     \u001b[38;5;28;01mreturn\u001b[39;00m \u001b[38;5;28;43mself\u001b[39;49m\u001b[38;5;241;43m.\u001b[39;49m\u001b[43mfit\u001b[49m\u001b[43m(\u001b[49m\u001b[43mX\u001b[49m\u001b[43m,\u001b[49m\u001b[43m \u001b[49m\u001b[43my\u001b[49m\u001b[43m,\u001b[49m\u001b[43m \u001b[49m\u001b[38;5;241;43m*\u001b[39;49m\u001b[38;5;241;43m*\u001b[39;49m\u001b[43mfit_params\u001b[49m\u001b[43m)\u001b[49m\u001b[38;5;241m.\u001b[39mtransform(X)\n",
      "File \u001b[1;32m~\\anaconda3\\Lib\\site-packages\\sklearn\\base.py:1151\u001b[0m, in \u001b[0;36m_fit_context.<locals>.decorator.<locals>.wrapper\u001b[1;34m(estimator, *args, **kwargs)\u001b[0m\n\u001b[0;32m   1144\u001b[0m     estimator\u001b[38;5;241m.\u001b[39m_validate_params()\n\u001b[0;32m   1146\u001b[0m \u001b[38;5;28;01mwith\u001b[39;00m config_context(\n\u001b[0;32m   1147\u001b[0m     skip_parameter_validation\u001b[38;5;241m=\u001b[39m(\n\u001b[0;32m   1148\u001b[0m         prefer_skip_nested_validation \u001b[38;5;129;01mor\u001b[39;00m global_skip_validation\n\u001b[0;32m   1149\u001b[0m     )\n\u001b[0;32m   1150\u001b[0m ):\n\u001b[1;32m-> 1151\u001b[0m     \u001b[38;5;28;01mreturn\u001b[39;00m \u001b[43mfit_method\u001b[49m\u001b[43m(\u001b[49m\u001b[43mestimator\u001b[49m\u001b[43m,\u001b[49m\u001b[43m \u001b[49m\u001b[38;5;241;43m*\u001b[39;49m\u001b[43margs\u001b[49m\u001b[43m,\u001b[49m\u001b[43m \u001b[49m\u001b[38;5;241;43m*\u001b[39;49m\u001b[38;5;241;43m*\u001b[39;49m\u001b[43mkwargs\u001b[49m\u001b[43m)\u001b[49m\n",
      "File \u001b[1;32m~\\anaconda3\\Lib\\site-packages\\sklearn\\feature_selection\\_univariate_selection.py:503\u001b[0m, in \u001b[0;36m_BaseFilter.fit\u001b[1;34m(self, X, y)\u001b[0m\n\u001b[0;32m    498\u001b[0m X, y \u001b[38;5;241m=\u001b[39m \u001b[38;5;28mself\u001b[39m\u001b[38;5;241m.\u001b[39m_validate_data(\n\u001b[0;32m    499\u001b[0m     X, y, accept_sparse\u001b[38;5;241m=\u001b[39m[\u001b[38;5;124m\"\u001b[39m\u001b[38;5;124mcsr\u001b[39m\u001b[38;5;124m\"\u001b[39m, \u001b[38;5;124m\"\u001b[39m\u001b[38;5;124mcsc\u001b[39m\u001b[38;5;124m\"\u001b[39m], multi_output\u001b[38;5;241m=\u001b[39m\u001b[38;5;28;01mTrue\u001b[39;00m\n\u001b[0;32m    500\u001b[0m )\n\u001b[0;32m    502\u001b[0m \u001b[38;5;28mself\u001b[39m\u001b[38;5;241m.\u001b[39m_check_params(X, y)\n\u001b[1;32m--> 503\u001b[0m score_func_ret \u001b[38;5;241m=\u001b[39m \u001b[38;5;28;43mself\u001b[39;49m\u001b[38;5;241;43m.\u001b[39;49m\u001b[43mscore_func\u001b[49m\u001b[43m(\u001b[49m\u001b[43mX\u001b[49m\u001b[43m,\u001b[49m\u001b[43m \u001b[49m\u001b[43my\u001b[49m\u001b[43m)\u001b[49m\n\u001b[0;32m    504\u001b[0m \u001b[38;5;28;01mif\u001b[39;00m \u001b[38;5;28misinstance\u001b[39m(score_func_ret, (\u001b[38;5;28mlist\u001b[39m, \u001b[38;5;28mtuple\u001b[39m)):\n\u001b[0;32m    505\u001b[0m     \u001b[38;5;28mself\u001b[39m\u001b[38;5;241m.\u001b[39mscores_, \u001b[38;5;28mself\u001b[39m\u001b[38;5;241m.\u001b[39mpvalues_ \u001b[38;5;241m=\u001b[39m score_func_ret\n",
      "File \u001b[1;32m~\\anaconda3\\Lib\\site-packages\\sklearn\\utils\\_param_validation.py:184\u001b[0m, in \u001b[0;36mvalidate_params.<locals>.decorator.<locals>.wrapper\u001b[1;34m(*args, **kwargs)\u001b[0m\n\u001b[0;32m    182\u001b[0m global_skip_validation \u001b[38;5;241m=\u001b[39m get_config()[\u001b[38;5;124m\"\u001b[39m\u001b[38;5;124mskip_parameter_validation\u001b[39m\u001b[38;5;124m\"\u001b[39m]\n\u001b[0;32m    183\u001b[0m \u001b[38;5;28;01mif\u001b[39;00m global_skip_validation:\n\u001b[1;32m--> 184\u001b[0m     \u001b[38;5;28;01mreturn\u001b[39;00m \u001b[43mfunc\u001b[49m\u001b[43m(\u001b[49m\u001b[38;5;241;43m*\u001b[39;49m\u001b[43margs\u001b[49m\u001b[43m,\u001b[49m\u001b[43m \u001b[49m\u001b[38;5;241;43m*\u001b[39;49m\u001b[38;5;241;43m*\u001b[39;49m\u001b[43mkwargs\u001b[49m\u001b[43m)\u001b[49m\n\u001b[0;32m    186\u001b[0m func_sig \u001b[38;5;241m=\u001b[39m signature(func)\n\u001b[0;32m    188\u001b[0m \u001b[38;5;66;03m# Map *args/**kwargs to the function signature\u001b[39;00m\n",
      "File \u001b[1;32m~\\anaconda3\\Lib\\site-packages\\sklearn\\feature_selection\\_mutual_info.py:493\u001b[0m, in \u001b[0;36mmutual_info_classif\u001b[1;34m(X, y, discrete_features, n_neighbors, copy, random_state)\u001b[0m\n\u001b[0;32m    419\u001b[0m \u001b[38;5;250m\u001b[39m\u001b[38;5;124;03m\"\"\"Estimate mutual information for a discrete target variable.\u001b[39;00m\n\u001b[0;32m    420\u001b[0m \n\u001b[0;32m    421\u001b[0m \u001b[38;5;124;03mMutual information (MI) [1]_ between two random variables is a non-negative\u001b[39;00m\n\u001b[1;32m   (...)\u001b[0m\n\u001b[0;32m    490\u001b[0m \u001b[38;5;124;03m       of a Random Vector:, Probl. Peredachi Inf., 23:2 (1987), 9-16\u001b[39;00m\n\u001b[0;32m    491\u001b[0m \u001b[38;5;124;03m\"\"\"\u001b[39;00m\n\u001b[0;32m    492\u001b[0m check_classification_targets(y)\n\u001b[1;32m--> 493\u001b[0m \u001b[38;5;28;01mreturn\u001b[39;00m \u001b[43m_estimate_mi\u001b[49m\u001b[43m(\u001b[49m\u001b[43mX\u001b[49m\u001b[43m,\u001b[49m\u001b[43m \u001b[49m\u001b[43my\u001b[49m\u001b[43m,\u001b[49m\u001b[43m \u001b[49m\u001b[43mdiscrete_features\u001b[49m\u001b[43m,\u001b[49m\u001b[43m \u001b[49m\u001b[38;5;28;43;01mTrue\u001b[39;49;00m\u001b[43m,\u001b[49m\u001b[43m \u001b[49m\u001b[43mn_neighbors\u001b[49m\u001b[43m,\u001b[49m\u001b[43m \u001b[49m\u001b[43mcopy\u001b[49m\u001b[43m,\u001b[49m\u001b[43m \u001b[49m\u001b[43mrandom_state\u001b[49m\u001b[43m)\u001b[49m\n",
      "File \u001b[1;32m~\\anaconda3\\Lib\\site-packages\\sklearn\\feature_selection\\_mutual_info.py:307\u001b[0m, in \u001b[0;36m_estimate_mi\u001b[1;34m(X, y, discrete_features, discrete_target, n_neighbors, copy, random_state)\u001b[0m\n\u001b[0;32m    300\u001b[0m     y \u001b[38;5;241m=\u001b[39m scale(y, with_mean\u001b[38;5;241m=\u001b[39m\u001b[38;5;28;01mFalse\u001b[39;00m)\n\u001b[0;32m    301\u001b[0m     y \u001b[38;5;241m+\u001b[39m\u001b[38;5;241m=\u001b[39m (\n\u001b[0;32m    302\u001b[0m         \u001b[38;5;241m1e-10\u001b[39m\n\u001b[0;32m    303\u001b[0m         \u001b[38;5;241m*\u001b[39m np\u001b[38;5;241m.\u001b[39mmaximum(\u001b[38;5;241m1\u001b[39m, np\u001b[38;5;241m.\u001b[39mmean(np\u001b[38;5;241m.\u001b[39mabs(y)))\n\u001b[0;32m    304\u001b[0m         \u001b[38;5;241m*\u001b[39m rng\u001b[38;5;241m.\u001b[39mstandard_normal(size\u001b[38;5;241m=\u001b[39mn_samples)\n\u001b[0;32m    305\u001b[0m     )\n\u001b[1;32m--> 307\u001b[0m mi \u001b[38;5;241m=\u001b[39m \u001b[43m[\u001b[49m\n\u001b[0;32m    308\u001b[0m \u001b[43m    \u001b[49m\u001b[43m_compute_mi\u001b[49m\u001b[43m(\u001b[49m\u001b[43mx\u001b[49m\u001b[43m,\u001b[49m\u001b[43m \u001b[49m\u001b[43my\u001b[49m\u001b[43m,\u001b[49m\u001b[43m \u001b[49m\u001b[43mdiscrete_feature\u001b[49m\u001b[43m,\u001b[49m\u001b[43m \u001b[49m\u001b[43mdiscrete_target\u001b[49m\u001b[43m,\u001b[49m\u001b[43m \u001b[49m\u001b[43mn_neighbors\u001b[49m\u001b[43m)\u001b[49m\n\u001b[0;32m    309\u001b[0m \u001b[43m    \u001b[49m\u001b[38;5;28;43;01mfor\u001b[39;49;00m\u001b[43m \u001b[49m\u001b[43mx\u001b[49m\u001b[43m,\u001b[49m\u001b[43m \u001b[49m\u001b[43mdiscrete_feature\u001b[49m\u001b[43m \u001b[49m\u001b[38;5;129;43;01min\u001b[39;49;00m\u001b[43m \u001b[49m\u001b[38;5;28;43mzip\u001b[39;49m\u001b[43m(\u001b[49m\u001b[43m_iterate_columns\u001b[49m\u001b[43m(\u001b[49m\u001b[43mX\u001b[49m\u001b[43m)\u001b[49m\u001b[43m,\u001b[49m\u001b[43m \u001b[49m\u001b[43mdiscrete_mask\u001b[49m\u001b[43m)\u001b[49m\n\u001b[0;32m    310\u001b[0m \u001b[43m\u001b[49m\u001b[43m]\u001b[49m\n\u001b[0;32m    312\u001b[0m \u001b[38;5;28;01mreturn\u001b[39;00m np\u001b[38;5;241m.\u001b[39marray(mi)\n",
      "File \u001b[1;32m~\\anaconda3\\Lib\\site-packages\\sklearn\\feature_selection\\_mutual_info.py:308\u001b[0m, in \u001b[0;36m<listcomp>\u001b[1;34m(.0)\u001b[0m\n\u001b[0;32m    300\u001b[0m     y \u001b[38;5;241m=\u001b[39m scale(y, with_mean\u001b[38;5;241m=\u001b[39m\u001b[38;5;28;01mFalse\u001b[39;00m)\n\u001b[0;32m    301\u001b[0m     y \u001b[38;5;241m+\u001b[39m\u001b[38;5;241m=\u001b[39m (\n\u001b[0;32m    302\u001b[0m         \u001b[38;5;241m1e-10\u001b[39m\n\u001b[0;32m    303\u001b[0m         \u001b[38;5;241m*\u001b[39m np\u001b[38;5;241m.\u001b[39mmaximum(\u001b[38;5;241m1\u001b[39m, np\u001b[38;5;241m.\u001b[39mmean(np\u001b[38;5;241m.\u001b[39mabs(y)))\n\u001b[0;32m    304\u001b[0m         \u001b[38;5;241m*\u001b[39m rng\u001b[38;5;241m.\u001b[39mstandard_normal(size\u001b[38;5;241m=\u001b[39mn_samples)\n\u001b[0;32m    305\u001b[0m     )\n\u001b[0;32m    307\u001b[0m mi \u001b[38;5;241m=\u001b[39m [\n\u001b[1;32m--> 308\u001b[0m     \u001b[43m_compute_mi\u001b[49m\u001b[43m(\u001b[49m\u001b[43mx\u001b[49m\u001b[43m,\u001b[49m\u001b[43m \u001b[49m\u001b[43my\u001b[49m\u001b[43m,\u001b[49m\u001b[43m \u001b[49m\u001b[43mdiscrete_feature\u001b[49m\u001b[43m,\u001b[49m\u001b[43m \u001b[49m\u001b[43mdiscrete_target\u001b[49m\u001b[43m,\u001b[49m\u001b[43m \u001b[49m\u001b[43mn_neighbors\u001b[49m\u001b[43m)\u001b[49m\n\u001b[0;32m    309\u001b[0m     \u001b[38;5;28;01mfor\u001b[39;00m x, discrete_feature \u001b[38;5;129;01min\u001b[39;00m \u001b[38;5;28mzip\u001b[39m(_iterate_columns(X), discrete_mask)\n\u001b[0;32m    310\u001b[0m ]\n\u001b[0;32m    312\u001b[0m \u001b[38;5;28;01mreturn\u001b[39;00m np\u001b[38;5;241m.\u001b[39marray(mi)\n",
      "File \u001b[1;32m~\\anaconda3\\Lib\\site-packages\\sklearn\\feature_selection\\_mutual_info.py:166\u001b[0m, in \u001b[0;36m_compute_mi\u001b[1;34m(x, y, x_discrete, y_discrete, n_neighbors)\u001b[0m\n\u001b[0;32m    164\u001b[0m     \u001b[38;5;28;01mreturn\u001b[39;00m _compute_mi_cd(y, x, n_neighbors)\n\u001b[0;32m    165\u001b[0m \u001b[38;5;28;01melif\u001b[39;00m \u001b[38;5;129;01mnot\u001b[39;00m x_discrete \u001b[38;5;129;01mand\u001b[39;00m y_discrete:\n\u001b[1;32m--> 166\u001b[0m     \u001b[38;5;28;01mreturn\u001b[39;00m \u001b[43m_compute_mi_cd\u001b[49m\u001b[43m(\u001b[49m\u001b[43mx\u001b[49m\u001b[43m,\u001b[49m\u001b[43m \u001b[49m\u001b[43my\u001b[49m\u001b[43m,\u001b[49m\u001b[43m \u001b[49m\u001b[43mn_neighbors\u001b[49m\u001b[43m)\u001b[49m\n\u001b[0;32m    167\u001b[0m \u001b[38;5;28;01melse\u001b[39;00m:\n\u001b[0;32m    168\u001b[0m     \u001b[38;5;28;01mreturn\u001b[39;00m _compute_mi_cc(x, y, n_neighbors)\n",
      "File \u001b[1;32m~\\anaconda3\\Lib\\site-packages\\sklearn\\feature_selection\\_mutual_info.py:128\u001b[0m, in \u001b[0;36m_compute_mi_cd\u001b[1;34m(c, d, n_neighbors)\u001b[0m\n\u001b[0;32m    126\u001b[0m nn\u001b[38;5;241m.\u001b[39mset_params(n_neighbors\u001b[38;5;241m=\u001b[39mk)\n\u001b[0;32m    127\u001b[0m nn\u001b[38;5;241m.\u001b[39mfit(c[mask])\n\u001b[1;32m--> 128\u001b[0m r \u001b[38;5;241m=\u001b[39m \u001b[43mnn\u001b[49m\u001b[38;5;241;43m.\u001b[39;49m\u001b[43mkneighbors\u001b[49m\u001b[43m(\u001b[49m\u001b[43m)\u001b[49m[\u001b[38;5;241m0\u001b[39m]\n\u001b[0;32m    129\u001b[0m radius[mask] \u001b[38;5;241m=\u001b[39m np\u001b[38;5;241m.\u001b[39mnextafter(r[:, \u001b[38;5;241m-\u001b[39m\u001b[38;5;241m1\u001b[39m], \u001b[38;5;241m0\u001b[39m)\n\u001b[0;32m    130\u001b[0m k_all[mask] \u001b[38;5;241m=\u001b[39m k\n",
      "File \u001b[1;32m~\\anaconda3\\Lib\\site-packages\\sklearn\\neighbors\\_base.py:918\u001b[0m, in \u001b[0;36mKNeighborsMixin.kneighbors\u001b[1;34m(self, X, n_neighbors, return_distance)\u001b[0m\n\u001b[0;32m    914\u001b[0m neigh_ind \u001b[38;5;241m=\u001b[39m np\u001b[38;5;241m.\u001b[39mreshape(neigh_ind[sample_mask], (n_queries, n_neighbors \u001b[38;5;241m-\u001b[39m \u001b[38;5;241m1\u001b[39m))\n\u001b[0;32m    916\u001b[0m \u001b[38;5;28;01mif\u001b[39;00m return_distance:\n\u001b[0;32m    917\u001b[0m     neigh_dist \u001b[38;5;241m=\u001b[39m np\u001b[38;5;241m.\u001b[39mreshape(\n\u001b[1;32m--> 918\u001b[0m         \u001b[43mneigh_dist\u001b[49m\u001b[43m[\u001b[49m\u001b[43msample_mask\u001b[49m\u001b[43m]\u001b[49m, (n_queries, n_neighbors \u001b[38;5;241m-\u001b[39m \u001b[38;5;241m1\u001b[39m)\n\u001b[0;32m    919\u001b[0m     )\n\u001b[0;32m    920\u001b[0m     \u001b[38;5;28;01mreturn\u001b[39;00m neigh_dist, neigh_ind\n\u001b[0;32m    921\u001b[0m \u001b[38;5;28;01mreturn\u001b[39;00m neigh_ind\n",
      "\u001b[1;31mMemoryError\u001b[0m: Unable to allocate 348. MiB for an array with shape (45569136,) and data type float64"
     ]
    }
   ],
   "source": [
    "from sklearn.feature_selection import SelectKBest\n",
    "from sklearn.feature_selection import mutual_info_classif\n",
    "\n",
    "# Select the number of top features to keep\n",
    "num_features_to_select = 3  # Change this as needed\n",
    "\n",
    "# Initialize SelectKBest with mutual information criterion for classification\n",
    "selector = SelectKBest(score_func=mutual_info_classif, k=num_features_to_select)\n",
    "\n",
    "# Fit the selector to the training data and transform the training features\n",
    "x_train_new = selector.fit_transform(x_train, y_train)\n",
    "\n",
    "# Transform the testing features using the same selector\n",
    "x_test_new = selector.transform(x_test)\n",
    "\n",
    "# Get the indices of the selected features\n",
    "selected_feature_indices = selector.get_support(indices=True)\n",
    "\n",
    "# Print the selected feature indices\n",
    "print(\"Selected Feature Indices:\", selected_feature_indices)\n"
   ]
  },
  {
   "cell_type": "code",
   "execution_count": null,
   "id": "3389f416-af42-44b0-8b4b-4562a243e918",
   "metadata": {
    "tags": []
   },
   "outputs": [],
   "source": [
    "import tensorflow as tf\n",
    "from tensorflow import keras\n",
    "from tensorflow.keras import layers\n",
    "ann=tf.keras.Sequential()\n",
    "ann.add(layers.Dense(6, activation='relu'))\n",
    "ann.add(layers.Dense(6, activation='relu'))\n",
    "ann.add(layers.Dense(1, activation='sigmoid'))\n",
    "ann.compile(optimizer='adam', loss='binary_crossentropy', metrics=['accuracy'])\n",
    "ann.fit(x_train_new,y_train,batch_size=32, epochs=5)"
   ]
  },
  {
   "cell_type": "code",
   "execution_count": null,
   "id": "eb5a300e-8adb-4bc2-b62d-ecf1185718b4",
   "metadata": {},
   "outputs": [],
   "source": [
    "y_pred=ann.predict(x_test_new)\n",
    "y_pred=(y_pred>0.5)\n",
    "#y_pred=classifier.predict(y_test_n)\n",
    "print(np.concatenate((y_pred.reshape(len(y_pred),1),y_test.reshape(len(y_test),1)),1))\n"
   ]
  },
  {
   "cell_type": "code",
   "execution_count": null,
   "id": "a2ae046a-5453-485b-8190-7120c51b7336",
   "metadata": {
    "tags": []
   },
   "outputs": [],
   "source": [
    "from sklearn.metrics import confusion_matrix, accuracy_score\n",
    "cm= confusion_matrix(y_test, y_pred)\n",
    "print(cm)\n",
    "accuracy_score(y_test,y_pred)\n"
   ]
  }
 ],
 "metadata": {
  "kernelspec": {
   "display_name": "Python 3 (ipykernel)",
   "language": "python",
   "name": "python3"
  },
  "language_info": {
   "codemirror_mode": {
    "name": "ipython",
    "version": 3
   },
   "file_extension": ".py",
   "mimetype": "text/x-python",
   "name": "python",
   "nbconvert_exporter": "python",
   "pygments_lexer": "ipython3",
   "version": "3.11.4"
  }
 },
 "nbformat": 4,
 "nbformat_minor": 5
}
